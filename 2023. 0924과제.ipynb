{
 "cells": [
  {
   "cell_type": "markdown",
   "metadata": {},
   "source": [
    "### 불균형 데이터에서 정확도만 되면 안되는 이유\n",
    "- 불균형하다보면 학습에서 문제가 발생(TP아니면 TN이므로)\n",
    "- pricision , recall 은 trade off 관계 -> 그래서 fi_score나옴"
   ]
  },
  {
   "cell_type": "markdown",
   "metadata": {},
   "source": [
    "### ROC곡선\n",
    "- FPR에서 FRP을 0으로 만들려면 TN=0으로 만들어야함 -> 임계값을 0으로 지정한다(Negative대한 값이 거의 없어짐)"
   ]
  },
  {
   "cell_type": "markdown",
   "metadata": {},
   "source": [
    "## 과제\n",
    "- 과제 데이터는 sample 데이터로\n",
    "- 전처리 후 평가지표 , 다른 모델들간의 비교 \n",
    "(전처리 후 시각화)\n",
    "- 평가지표에 대한 임계값을 조절하면서 변화 정리(모델은 로지스틱으로 진행)\n",
    "- 정확도 , 정밀도 , 재현율 , ROC , AUC 까지 시각화를 통해 어떤식으로 변화하는지 \n",
    "- 모델간의 비교 진행(로지스틱 , DT , RF , KNN) 3개의 모델을 가지고 직접 모델링을 진행하고)\n",
    "\n",
    "- 쥬피터 공유 = pdf보고서 (10페이지 내)\n",
    "- 컬럼을 선정한 기준은 구체적으로 적어줘야함 \n",
    "- 모델 , 평가지표 선정이유와 함께 선정하고 그 이유를 정리 해서 공유"
   ]
  },
  {
   "cell_type": "markdown",
   "metadata": {},
   "source": []
  },
  {
   "cell_type": "code",
   "execution_count": null,
   "metadata": {
    "vscode": {
     "languageId": "plaintext"
    }
   },
   "outputs": [],
   "source": []
  },
  {
   "cell_type": "code",
   "execution_count": null,
   "metadata": {
    "vscode": {
     "languageId": "plaintext"
    }
   },
   "outputs": [],
   "source": []
  },
  {
   "cell_type": "code",
   "execution_count": null,
   "metadata": {
    "vscode": {
     "languageId": "plaintext"
    }
   },
   "outputs": [],
   "source": []
  },
  {
   "cell_type": "code",
   "execution_count": null,
   "metadata": {
    "vscode": {
     "languageId": "plaintext"
    }
   },
   "outputs": [],
   "source": []
  },
  {
   "cell_type": "code",
   "execution_count": null,
   "metadata": {
    "vscode": {
     "languageId": "plaintext"
    }
   },
   "outputs": [],
   "source": []
  },
  {
   "cell_type": "code",
   "execution_count": null,
   "metadata": {
    "vscode": {
     "languageId": "plaintext"
    }
   },
   "outputs": [],
   "source": []
  }
 ],
 "metadata": {
  "language_info": {
   "name": "python"
  },
  "orig_nbformat": 4
 },
 "nbformat": 4,
 "nbformat_minor": 2
}
