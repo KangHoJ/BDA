{
 "cells": [
  {
   "cell_type": "markdown",
   "metadata": {},
   "source": [
    "## cross_val_score 평가\n",
    "- cross_val_score\n",
    "(사용할 모델 , x값 , y값 , scroing(평가할 스코어링 방법),cv(몇번 검증할 것인가 ?),n_jobs(cpu사용자에 대한 지정-1), verbose(진행 사항 보기) )"
   ]
  },
  {
   "cell_type": "code",
   "execution_count": 18,
   "metadata": {},
   "outputs": [],
   "source": [
    "from sklearn.tree import DecisionTreeClassifier\n",
    "from sklearn.ensemble import RandomForestClassifier\n",
    "from sklearn.linear_model import LogisticRegression\n",
    "from sklearn.model_selection import cross_val_score, cross_validate\n",
    "from sklearn.datasets import load_iris\n",
    "import numpy as np\n",
    "import pandas as pd"
   ]
  },
  {
   "cell_type": "code",
   "execution_count": 5,
   "metadata": {},
   "outputs": [],
   "source": [
    "iris_data = load_iris()\n",
    "data =  iris_data.data\n",
    "label = iris_data.target"
   ]
  },
  {
   "cell_type": "code",
   "execution_count": 7,
   "metadata": {},
   "outputs": [],
   "source": [
    "dt_clf = DecisionTreeClassifier(random_state=111)"
   ]
  },
  {
   "cell_type": "code",
   "execution_count": 8,
   "metadata": {},
   "outputs": [
    {
     "name": "stdout",
     "output_type": "stream",
     "text": [
      "0.96\n"
     ]
    }
   ],
   "source": [
    "# 교차검증 진행\n",
    "scores = cross_val_score(dt_clf,data,label,scoring='accuracy',cv=5)\n",
    "print(np.round(np.mean(scores),3))"
   ]
  },
  {
   "cell_type": "code",
   "execution_count": null,
   "metadata": {},
   "outputs": [],
   "source": [
    "import seaborn as sns\n",
    "df = sns.load_dataset('titanic')"
   ]
  },
  {
   "cell_type": "code",
   "execution_count": null,
   "metadata": {},
   "outputs": [],
   "source": [
    "df_tt = df[['pclass','fare']] # x"
   ]
  },
  {
   "cell_type": "code",
   "execution_count": 17,
   "metadata": {},
   "outputs": [
    {
     "name": "stdout",
     "output_type": "stream",
     "text": [
      "0.535\n"
     ]
    }
   ],
   "source": [
    "scores = cross_val_score(dt_clf,df_tt,df['survived'],scoring='f1',cv=5)\n",
    "print(np.round(np.mean(scores),3)) # 이진분류면 잘 나온다"
   ]
  },
  {
   "cell_type": "markdown",
   "metadata": {},
   "source": [
    "## confusion matrix \n",
    "- 정확도 , 정밀도 , 재현율 , f1스코어 , auc , roc 커브\n",
    "- 이진분류는 정확도 , 정밀도 , 재현율 , f1스코어 , auc , roc 커브 분류에 디폴트로 문제없다\n",
    "- 다중분류로 했을때는 어떻게 해야할까 ?"
   ]
  },
  {
   "cell_type": "markdown",
   "metadata": {},
   "source": [
    "## 다중분류 진행시 평가지표에 대한 가중치 설정 방법\n",
    "- _micro , _macro , _weighted 이런식으로 사용하면 된다 .\n",
    "- macro\n",
    "-> 모든 예측 결과에 대해서 평균을 내어서 계산하는 방법 \n",
    "- micro\n",
    "-> 각각의 정답에 대한 개수를 가지고 나눠서 평균값을 구한다\n",
    "- weighted \n",
    "-> 가중 평균값을 구한다 , 가중치를 주고 싶은 것에 줄 수 있다 .\n"
   ]
  },
  {
   "cell_type": "markdown",
   "metadata": {},
   "source": [
    "#### 예시 \n",
    "- 4개라벨(0,1,2,3)클래스 있을떄 precision계산하면 \n",
    "- 0 -> 0.5 = 1/2 , 1 -> 0.1 = 10/100 , 2 -> 0.5 = 1/2 , 3 -> 0.5 = 1/2 이면\n",
    "- macro : (0.5+0.1+0.5+0.5) / 4 \n",
    "- micro : (1+10+1+1) / (2+100+2+2)  "
   ]
  },
  {
   "cell_type": "markdown",
   "metadata": {},
   "source": [
    "#### 그렇다면 언제 뭐를 선택 ? \n",
    "- 클래스에 대한 불균형에 따라서 선택해야 한다 (불균형일떄 micro)\n",
    "- 사기탐지 같은 예시를 보면 사기가 압도적으로 적으니 불균형 상황\n"
   ]
  },
  {
   "cell_type": "markdown",
   "metadata": {},
   "source": [
    "## leaveOneOut 교차검증\n",
    "- corss_val_score 부분 cv=loo 넣는 방법\n",
    "## Group 교차검증\n",
    "- 그룹핑은 그룹핑 데이터를 가지고 교차검증할떄 더 좋은 성능을 보여줌\n",
    "- 단순하게 교차검증을 cross 하는게 아니라 데이터가 어떤 클래스 별로 수치를 비교하는 ㅓㄳ이라면 교차검증 자체도 그룹핑으로 접근 할 수 있는것"
   ]
  },
  {
   "cell_type": "code",
   "execution_count": null,
   "metadata": {},
   "outputs": [],
   "source": [
    "from sklearn.model"
   ]
  },
  {
   "cell_type": "markdown",
   "metadata": {},
   "source": [
    "### 분류 평가지표\n",
    "- 정확도 : 맞춘수(TP+FN) / 전체 데이터 건수"
   ]
  },
  {
   "cell_type": "markdown",
   "metadata": {},
   "source": [
    "## 필수과제 1 \n",
    "- weighted 구글링해서 내용 설명과 이것에 대한 코드\n",
    "- 라벨의 개수에 비례하게 가중치를 줘서 평균 값\n",
    "- 예를들면 위에 예제에서 (0.5)*(0.2) + (0.1)*(0.2) + (0.5)*(0.3) + (0.5)*(0.3) "
   ]
  },
  {
   "cell_type": "markdown",
   "metadata": {},
   "source": [
    "## 필수과제2 \n",
    "- leaveOneOut말고 다른 교차검증 패키지 사용해보기 \n",
    "- 개념설명과 실제 적용해서 나온 결과 값을 비교하기 \n",
    "- e.g ) 타이타닉 데이터로 한다면 기존에 교차검증과 새롭게 진행한 교차검증의 차이"
   ]
  }
 ],
 "metadata": {
  "kernelspec": {
   "display_name": "tset",
   "language": "python",
   "name": "python3"
  },
  "language_info": {
   "codemirror_mode": {
    "name": "ipython",
    "version": 3
   },
   "file_extension": ".py",
   "mimetype": "text/x-python",
   "name": "python",
   "nbconvert_exporter": "python",
   "pygments_lexer": "ipython3",
   "version": "3.10.11"
  },
  "orig_nbformat": 4
 },
 "nbformat": 4,
 "nbformat_minor": 2
}
