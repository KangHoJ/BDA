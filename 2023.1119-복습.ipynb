{
 "cells": [
  {
   "cell_type": "markdown",
   "id": "f04289b2",
   "metadata": {},
   "source": [
    "### 최소제곱법에 대한 넘파이로 행렬식 만들기!"
   ]
  },
  {
   "cell_type": "markdown",
   "id": "a083a96b",
   "metadata": {},
   "source": [
    "- 공부시간 3, 4, 5, 6\n",
    "- 성적 2.5, 3.0, 3.5, 4.3\n",
    "\n",
    "- 공부시간이 늘수록, 성적도 어느정도 늘어난다."
   ]
  },
  {
   "cell_type": "code",
   "execution_count": 1,
   "metadata": {},
   "outputs": [],
   "source": [
    "import numpy as np"
   ]
  },
  {
   "cell_type": "code",
   "execution_count": 2,
   "id": "72a2f999",
   "metadata": {},
   "outputs": [],
   "source": [
    "np1 = ((3**2)+(4**2)+(5**2)+(6**2))\n",
    "np2 = (3+4+5+6)\n",
    "np3 = 4"
   ]
  },
  {
   "cell_type": "code",
   "execution_count": 3,
   "id": "d3b1f81b",
   "metadata": {},
   "outputs": [
    {
     "data": {
      "text/plain": [
       "86"
      ]
     },
     "execution_count": 3,
     "metadata": {},
     "output_type": "execute_result"
    }
   ],
   "source": [
    "np1"
   ]
  },
  {
   "cell_type": "code",
   "execution_count": 4,
   "id": "6d342a7c",
   "metadata": {},
   "outputs": [
    {
     "data": {
      "text/plain": [
       "18"
      ]
     },
     "execution_count": 4,
     "metadata": {},
     "output_type": "execute_result"
    }
   ],
   "source": [
    "np2"
   ]
  },
  {
   "cell_type": "code",
   "execution_count": 5,
   "id": "d5bba421",
   "metadata": {},
   "outputs": [],
   "source": [
    "X=np.array([[np1, np2],[np3,np2]])"
   ]
  },
  {
   "cell_type": "code",
   "execution_count": 6,
   "id": "c78a1e6e",
   "metadata": {},
   "outputs": [
    {
     "data": {
      "text/plain": [
       "array([[86, 18],\n",
       "       [ 4, 18]])"
      ]
     },
     "execution_count": 6,
     "metadata": {},
     "output_type": "execute_result"
    }
   ],
   "source": [
    "X"
   ]
  },
  {
   "cell_type": "code",
   "execution_count": 7,
   "id": "3a1afd4f",
   "metadata": {},
   "outputs": [],
   "source": [
    "ynp1=((3*2.5)+(4*3)+(5*3.5)+(6*4.3))\n",
    "ynp2=(2.5+3.0+3.5+4.3)"
   ]
  },
  {
   "cell_type": "code",
   "execution_count": 8,
   "id": "de258d4e",
   "metadata": {},
   "outputs": [
    {
     "data": {
      "text/plain": [
       "62.8"
      ]
     },
     "execution_count": 8,
     "metadata": {},
     "output_type": "execute_result"
    }
   ],
   "source": [
    "ynp1"
   ]
  },
  {
   "cell_type": "code",
   "execution_count": 9,
   "id": "66ab0bf5",
   "metadata": {},
   "outputs": [
    {
     "data": {
      "text/plain": [
       "13.3"
      ]
     },
     "execution_count": 9,
     "metadata": {},
     "output_type": "execute_result"
    }
   ],
   "source": [
    "ynp2"
   ]
  },
  {
   "cell_type": "code",
   "execution_count": 10,
   "id": "f493603c",
   "metadata": {},
   "outputs": [],
   "source": [
    "Y= np.array([ynp1, ynp2]).reshape(2,1)"
   ]
  },
  {
   "cell_type": "code",
   "execution_count": 11,
   "id": "190319b6",
   "metadata": {},
   "outputs": [
    {
     "data": {
      "text/plain": [
       "array([[62.8],\n",
       "       [13.3]])"
      ]
     },
     "execution_count": 11,
     "metadata": {},
     "output_type": "execute_result"
    }
   ],
   "source": [
    "Y"
   ]
  },
  {
   "cell_type": "code",
   "execution_count": 12,
   "id": "b5fec2a0",
   "metadata": {},
   "outputs": [],
   "source": [
    "X1=np.linalg.inv(X) "
   ]
  },
  {
   "cell_type": "code",
   "execution_count": 13,
   "id": "43d19373",
   "metadata": {},
   "outputs": [
    {
     "data": {
      "text/plain": [
       "array([[ 0.01219512, -0.01219512],\n",
       "       [-0.00271003,  0.05826558]])"
      ]
     },
     "execution_count": 13,
     "metadata": {},
     "output_type": "execute_result"
    }
   ],
   "source": [
    "X1"
   ]
  },
  {
   "cell_type": "code",
   "execution_count": 14,
   "id": "14495ae0",
   "metadata": {},
   "outputs": [
    {
     "data": {
      "text/plain": [
       "array([[0.60365854],\n",
       "       [0.60474255]])"
      ]
     },
     "execution_count": 14,
     "metadata": {},
     "output_type": "execute_result"
    }
   ],
   "source": [
    "np.dot(X1,Y)"
   ]
  },
  {
   "cell_type": "code",
   "execution_count": 15,
   "id": "6be1b6eb",
   "metadata": {},
   "outputs": [
    {
     "data": {
      "text/plain": [
       "5.43401087"
      ]
     },
     "execution_count": 15,
     "metadata": {},
     "output_type": "execute_result"
    }
   ],
   "source": [
    "0.60365854*8 + 0.60474255"
   ]
  },
  {
   "cell_type": "markdown",
   "id": "70934b06",
   "metadata": {},
   "source": [
    "## 선형회귀\n",
    "\n",
    "- 분석적인면에서 선형회귀를 왜 사용하는지? \n",
    "- OLS 패키지 가지고 진행 stats model에서 가지고 오는 회귀분석식\n",
    "- sklearn 회귀분석\n",
    "- np 직접 만들 수도 있다.\n",
    "\n",
    "\n",
    "### 1. 데이터에 대한 이해와 관계 등을 알고 통계치를 확인하기 위해서!\n",
    "- OLS 쪽에서 가지고 오는 회귀분석식을 보면\n",
    "- 독립변수와 종속변수 그리고 그외 변수들의 관계를 잘 나타내는 지표로 보여준다.\n",
    "- 그 지표를 기본적으로 해석하면서 데이터들의 관계를 이해하기 쉽다.\n",
    "- 통계분석-> 통계치에 대한 값들을 정리하면서 변수들간의 관계를 이해할 수 있다.\n",
    "\n",
    "\n",
    "### 2. 예측도 가능하다\n",
    "- 회귀분석을 통해 예측도 가능하다.\n",
    "- 선형적인 한계 존재한다.\n",
    "- 선형에 대한 가정들이 다 존재하기 때문에 예측에 대한 정확도가 좋긴 어려울 수 있다.\n",
    "\n",
    "### 3. 인과관계 증명 \n",
    "- 인과관계 분석하려고 회귀분석도 활용 되어진다.\n",
    "\n",
    "\n",
    "### 선형적인 관계의 데이터가 아닌 경우는 -> 비선형으로 생각을하고 \n",
    "- 다항회귀 등의 방법을 문제를 해결하게 된다."
   ]
  },
  {
   "cell_type": "markdown",
   "id": "31b3e797",
   "metadata": {},
   "source": [
    "- 컬럼 설명서\n",
    "- longitude : 경도\n",
    "- latitude : 위도\n",
    "- housing_median_age : 주택 나이(중앙값)\n",
    "- total_rooms : 전체 방 수\n",
    "- total_bedrooms : 전체 침실 수\n",
    "- population : 인구 수\n",
    "- households : 세대 수\n",
    "- median_income : 소득(중앙값)\n",
    "- median_house_value : 주택 가치(중앙값)\n",
    "- ocean_proximity : 바다 근접도"
   ]
  },
  {
   "cell_type": "code",
   "execution_count": 16,
   "id": "f2dfccd5",
   "metadata": {},
   "outputs": [],
   "source": [
    "import sklearn\n",
    "import pandas as pd\n",
    "from statsmodels.formula.api import ols\n",
    "import statsmodels.api as sm\n",
    "from sklearn import datasets"
   ]
  },
  {
   "cell_type": "code",
   "execution_count": 17,
   "id": "b8731472",
   "metadata": {},
   "outputs": [],
   "source": [
    "# 캘리포니아 주택가격\n",
    "calhouse = sklearn.datasets.fetch_california_housing()\n",
    "dfx = pd.DataFrame(calhouse.data, columns = calhouse.feature_names)\n",
    "dfy = pd.DataFrame(calhouse.target, columns=['y'])\n",
    "df = pd.concat([dfx, dfy],axis=1)"
   ]
  },
  {
   "cell_type": "code",
   "execution_count": 18,
   "id": "8d8b7d67",
   "metadata": {
    "scrolled": true
   },
   "outputs": [],
   "source": [
    "df_sp1 = df[['MedInc','y']]"
   ]
  },
  {
   "cell_type": "code",
   "execution_count": 19,
   "id": "f977d745",
   "metadata": {},
   "outputs": [
    {
     "data": {
      "text/html": [
       "<div>\n",
       "<style scoped>\n",
       "    .dataframe tbody tr th:only-of-type {\n",
       "        vertical-align: middle;\n",
       "    }\n",
       "\n",
       "    .dataframe tbody tr th {\n",
       "        vertical-align: top;\n",
       "    }\n",
       "\n",
       "    .dataframe thead th {\n",
       "        text-align: right;\n",
       "    }\n",
       "</style>\n",
       "<table border=\"1\" class=\"dataframe\">\n",
       "  <thead>\n",
       "    <tr style=\"text-align: right;\">\n",
       "      <th></th>\n",
       "      <th>MedInc</th>\n",
       "      <th>y</th>\n",
       "    </tr>\n",
       "  </thead>\n",
       "  <tbody>\n",
       "    <tr>\n",
       "      <th>0</th>\n",
       "      <td>8.3252</td>\n",
       "      <td>4.526</td>\n",
       "    </tr>\n",
       "    <tr>\n",
       "      <th>1</th>\n",
       "      <td>8.3014</td>\n",
       "      <td>3.585</td>\n",
       "    </tr>\n",
       "    <tr>\n",
       "      <th>2</th>\n",
       "      <td>7.2574</td>\n",
       "      <td>3.521</td>\n",
       "    </tr>\n",
       "    <tr>\n",
       "      <th>3</th>\n",
       "      <td>5.6431</td>\n",
       "      <td>3.413</td>\n",
       "    </tr>\n",
       "    <tr>\n",
       "      <th>4</th>\n",
       "      <td>3.8462</td>\n",
       "      <td>3.422</td>\n",
       "    </tr>\n",
       "    <tr>\n",
       "      <th>...</th>\n",
       "      <td>...</td>\n",
       "      <td>...</td>\n",
       "    </tr>\n",
       "    <tr>\n",
       "      <th>20635</th>\n",
       "      <td>1.5603</td>\n",
       "      <td>0.781</td>\n",
       "    </tr>\n",
       "    <tr>\n",
       "      <th>20636</th>\n",
       "      <td>2.5568</td>\n",
       "      <td>0.771</td>\n",
       "    </tr>\n",
       "    <tr>\n",
       "      <th>20637</th>\n",
       "      <td>1.7000</td>\n",
       "      <td>0.923</td>\n",
       "    </tr>\n",
       "    <tr>\n",
       "      <th>20638</th>\n",
       "      <td>1.8672</td>\n",
       "      <td>0.847</td>\n",
       "    </tr>\n",
       "    <tr>\n",
       "      <th>20639</th>\n",
       "      <td>2.3886</td>\n",
       "      <td>0.894</td>\n",
       "    </tr>\n",
       "  </tbody>\n",
       "</table>\n",
       "<p>20640 rows × 2 columns</p>\n",
       "</div>"
      ],
      "text/plain": [
       "       MedInc      y\n",
       "0      8.3252  4.526\n",
       "1      8.3014  3.585\n",
       "2      7.2574  3.521\n",
       "3      5.6431  3.413\n",
       "4      3.8462  3.422\n",
       "...       ...    ...\n",
       "20635  1.5603  0.781\n",
       "20636  2.5568  0.771\n",
       "20637  1.7000  0.923\n",
       "20638  1.8672  0.847\n",
       "20639  2.3886  0.894\n",
       "\n",
       "[20640 rows x 2 columns]"
      ]
     },
     "execution_count": 19,
     "metadata": {},
     "output_type": "execute_result"
    }
   ],
   "source": [
    "df_sp1"
   ]
  },
  {
   "cell_type": "code",
   "execution_count": 20,
   "id": "b5cb7cc0",
   "metadata": {},
   "outputs": [],
   "source": [
    "#stats 모델을 이용해서 데이터의 관계 등을 확인해 보자!\n",
    "\n",
    "model1=sm.OLS.from_formula('y~MedInc',data=df_sp1)\n",
    "model1_res=model1.fit()"
   ]
  },
  {
   "cell_type": "code",
   "execution_count": 21,
   "id": "91035862",
   "metadata": {},
   "outputs": [
    {
     "data": {
      "text/html": [
       "<table class=\"simpletable\">\n",
       "<caption>OLS Regression Results</caption>\n",
       "<tr>\n",
       "  <th>Dep. Variable:</th>            <td>y</td>        <th>  R-squared:         </th> <td>   0.473</td> \n",
       "</tr>\n",
       "<tr>\n",
       "  <th>Model:</th>                   <td>OLS</td>       <th>  Adj. R-squared:    </th> <td>   0.473</td> \n",
       "</tr>\n",
       "<tr>\n",
       "  <th>Method:</th>             <td>Least Squares</td>  <th>  F-statistic:       </th> <td>1.856e+04</td>\n",
       "</tr>\n",
       "<tr>\n",
       "  <th>Date:</th>             <td>Sat, 25 Nov 2023</td> <th>  Prob (F-statistic):</th>  <td>  0.00</td>  \n",
       "</tr>\n",
       "<tr>\n",
       "  <th>Time:</th>                 <td>22:34:10</td>     <th>  Log-Likelihood:    </th> <td> -25623.</td> \n",
       "</tr>\n",
       "<tr>\n",
       "  <th>No. Observations:</th>      <td> 20640</td>      <th>  AIC:               </th> <td>5.125e+04</td>\n",
       "</tr>\n",
       "<tr>\n",
       "  <th>Df Residuals:</th>          <td> 20638</td>      <th>  BIC:               </th> <td>5.127e+04</td>\n",
       "</tr>\n",
       "<tr>\n",
       "  <th>Df Model:</th>              <td>     1</td>      <th>                     </th>     <td> </td>    \n",
       "</tr>\n",
       "<tr>\n",
       "  <th>Covariance Type:</th>      <td>nonrobust</td>    <th>                     </th>     <td> </td>    \n",
       "</tr>\n",
       "</table>\n",
       "<table class=\"simpletable\">\n",
       "<tr>\n",
       "      <td></td>         <th>coef</th>     <th>std err</th>      <th>t</th>      <th>P>|t|</th>  <th>[0.025</th>    <th>0.975]</th>  \n",
       "</tr>\n",
       "<tr>\n",
       "  <th>Intercept</th> <td>    0.4509</td> <td>    0.013</td> <td>   34.082</td> <td> 0.000</td> <td>    0.425</td> <td>    0.477</td>\n",
       "</tr>\n",
       "<tr>\n",
       "  <th>MedInc</th>    <td>    0.4179</td> <td>    0.003</td> <td>  136.223</td> <td> 0.000</td> <td>    0.412</td> <td>    0.424</td>\n",
       "</tr>\n",
       "</table>\n",
       "<table class=\"simpletable\">\n",
       "<tr>\n",
       "  <th>Omnibus:</th>       <td>4245.795</td> <th>  Durbin-Watson:     </th> <td>   0.655</td>\n",
       "</tr>\n",
       "<tr>\n",
       "  <th>Prob(Omnibus):</th>  <td> 0.000</td>  <th>  Jarque-Bera (JB):  </th> <td>9273.446</td>\n",
       "</tr>\n",
       "<tr>\n",
       "  <th>Skew:</th>           <td> 1.191</td>  <th>  Prob(JB):          </th> <td>    0.00</td>\n",
       "</tr>\n",
       "<tr>\n",
       "  <th>Kurtosis:</th>       <td> 5.260</td>  <th>  Cond. No.          </th> <td>    10.2</td>\n",
       "</tr>\n",
       "</table><br/><br/>Notes:<br/>[1] Standard Errors assume that the covariance matrix of the errors is correctly specified."
      ],
      "text/latex": [
       "\\begin{center}\n",
       "\\begin{tabular}{lclc}\n",
       "\\toprule\n",
       "\\textbf{Dep. Variable:}    &        y         & \\textbf{  R-squared:         } &     0.473   \\\\\n",
       "\\textbf{Model:}            &       OLS        & \\textbf{  Adj. R-squared:    } &     0.473   \\\\\n",
       "\\textbf{Method:}           &  Least Squares   & \\textbf{  F-statistic:       } & 1.856e+04   \\\\\n",
       "\\textbf{Date:}             & Sat, 25 Nov 2023 & \\textbf{  Prob (F-statistic):} &     0.00    \\\\\n",
       "\\textbf{Time:}             &     22:34:10     & \\textbf{  Log-Likelihood:    } &   -25623.   \\\\\n",
       "\\textbf{No. Observations:} &       20640      & \\textbf{  AIC:               } & 5.125e+04   \\\\\n",
       "\\textbf{Df Residuals:}     &       20638      & \\textbf{  BIC:               } & 5.127e+04   \\\\\n",
       "\\textbf{Df Model:}         &           1      & \\textbf{                     } &             \\\\\n",
       "\\textbf{Covariance Type:}  &    nonrobust     & \\textbf{                     } &             \\\\\n",
       "\\bottomrule\n",
       "\\end{tabular}\n",
       "\\begin{tabular}{lcccccc}\n",
       "                   & \\textbf{coef} & \\textbf{std err} & \\textbf{t} & \\textbf{P$> |$t$|$} & \\textbf{[0.025} & \\textbf{0.975]}  \\\\\n",
       "\\midrule\n",
       "\\textbf{Intercept} &       0.4509  &        0.013     &    34.082  &         0.000        &        0.425    &        0.477     \\\\\n",
       "\\textbf{MedInc}    &       0.4179  &        0.003     &   136.223  &         0.000        &        0.412    &        0.424     \\\\\n",
       "\\bottomrule\n",
       "\\end{tabular}\n",
       "\\begin{tabular}{lclc}\n",
       "\\textbf{Omnibus:}       & 4245.795 & \\textbf{  Durbin-Watson:     } &    0.655  \\\\\n",
       "\\textbf{Prob(Omnibus):} &   0.000  & \\textbf{  Jarque-Bera (JB):  } & 9273.446  \\\\\n",
       "\\textbf{Skew:}          &   1.191  & \\textbf{  Prob(JB):          } &     0.00  \\\\\n",
       "\\textbf{Kurtosis:}      &   5.260  & \\textbf{  Cond. No.          } &     10.2  \\\\\n",
       "\\bottomrule\n",
       "\\end{tabular}\n",
       "%\\caption{OLS Regression Results}\n",
       "\\end{center}\n",
       "\n",
       "Notes: \\newline\n",
       " [1] Standard Errors assume that the covariance matrix of the errors is correctly specified."
      ],
      "text/plain": [
       "<class 'statsmodels.iolib.summary.Summary'>\n",
       "\"\"\"\n",
       "                            OLS Regression Results                            \n",
       "==============================================================================\n",
       "Dep. Variable:                      y   R-squared:                       0.473\n",
       "Model:                            OLS   Adj. R-squared:                  0.473\n",
       "Method:                 Least Squares   F-statistic:                 1.856e+04\n",
       "Date:                Sat, 25 Nov 2023   Prob (F-statistic):               0.00\n",
       "Time:                        22:34:10   Log-Likelihood:                -25623.\n",
       "No. Observations:               20640   AIC:                         5.125e+04\n",
       "Df Residuals:                   20638   BIC:                         5.127e+04\n",
       "Df Model:                           1                                         \n",
       "Covariance Type:            nonrobust                                         \n",
       "==============================================================================\n",
       "                 coef    std err          t      P>|t|      [0.025      0.975]\n",
       "------------------------------------------------------------------------------\n",
       "Intercept      0.4509      0.013     34.082      0.000       0.425       0.477\n",
       "MedInc         0.4179      0.003    136.223      0.000       0.412       0.424\n",
       "==============================================================================\n",
       "Omnibus:                     4245.795   Durbin-Watson:                   0.655\n",
       "Prob(Omnibus):                  0.000   Jarque-Bera (JB):             9273.446\n",
       "Skew:                           1.191   Prob(JB):                         0.00\n",
       "Kurtosis:                       5.260   Cond. No.                         10.2\n",
       "==============================================================================\n",
       "\n",
       "Notes:\n",
       "[1] Standard Errors assume that the covariance matrix of the errors is correctly specified.\n",
       "\"\"\""
      ]
     },
     "execution_count": 21,
     "metadata": {},
     "output_type": "execute_result"
    }
   ],
   "source": [
    "model1_res.summary()"
   ]
  },
  {
   "cell_type": "markdown",
   "id": "ed599f99",
   "metadata": {},
   "source": [
    "- R-squared : 결정계수, 회귀식이 얼마나 설명력이 있는지 확인하는 지표 1이 가낭 좋은 성능\n",
    "- Adj. R-squared: 조정된 결정계수, 독립변수 여러 개 잇으면 그 중에 조정해서 가장 좋은 값을 만들어 주는 것\n",
    "- F-statistic: F통계량 회귀식 적절한지 보는 것 0 가가우면 적절하다고 보는 지표 \n",
    "- Prob (F-statistic): 유의미한지 0.05 이하인 경우는 변수기리 매우 관련있다고 본다\n",
    "- AIC: 모델 평가 지표 수치 낮을수록 좋은 수치\n",
    "- BIC:모델 평가하는데 패널티 부여하고 수치가 낮으면 좋은 것"
   ]
  },
  {
   "cell_type": "markdown",
   "id": "1d38b969",
   "metadata": {},
   "source": [
    "- coef : 회귀계수값\n",
    "- std err : 계수 추정치에 대한 표준오차 작을수록 좋다\n",
    "- t t테스트 값들\n",
    "- P>|t|\t: 독립변수가 유의한지를 보는 유의확률 0.05보다 작아야 유의미함"
   ]
  },
  {
   "cell_type": "markdown",
   "id": "36d492a9",
   "metadata": {},
   "source": [
    "- Omnibus: 비대칭, 첨도 등을 결합해서 정규성 테스트, 값이 크면 클수록 정규분포 가까운 것 \n",
    "- Prob(Omnibus): 같은 유의확률\n",
    "- Skew : 왜도\n",
    "- Kurtosis : 첨도\n",
    "- Durbin-Watson: 잔차 독립성 여부 판단 1.5~2.5사이일 때 잔차 독립적이다 판단하고, 0이나 4이상등은 자기상관이 있다. \n",
    "- Jarque-Bera (JB): 자크베라 검정 정규준포 데이터 사용했다는 것에 대한 내용이 검정값 크면 클수록 정규분포 \n",
    "- Cond. No.\t다중공선성 : 독립변수간의 상관관계 보는 것 10이상이면 다중공선성 있다고 판단하고 진행하는 것 "
   ]
  }
 ],
 "metadata": {
  "kernelspec": {
   "display_name": "Python 3 (ipykernel)",
   "language": "python",
   "name": "python3"
  },
  "language_info": {
   "codemirror_mode": {
    "name": "ipython",
    "version": 3
   },
   "file_extension": ".py",
   "mimetype": "text/x-python",
   "name": "python",
   "nbconvert_exporter": "python",
   "pygments_lexer": "ipython3",
   "version": "3.11.6"
  }
 },
 "nbformat": 4,
 "nbformat_minor": 5
}
