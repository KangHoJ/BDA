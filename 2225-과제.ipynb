{
  "cells": [
    {
      "cell_type": "code",
      "execution_count": null,
      "id": "665bcd10",
      "metadata": {
        "id": "665bcd10"
      },
      "outputs": [],
      "source": [
        "import numpy as np\n",
        "import pandas as pd\n",
        "import matplotlib.pyplot as plt\n",
        "import seaborn as sns"
      ]
    },
    {
      "cell_type": "code",
      "execution_count": null,
      "id": "6738e947",
      "metadata": {
        "id": "6738e947"
      },
      "outputs": [],
      "source": [
        "#데이터 불러오기\n",
        "\n",
        "df = pd.read_excel('car_evaluation.xlsx')"
      ]
    },
    {
      "cell_type": "code",
      "execution_count": null,
      "id": "94183537",
      "metadata": {
        "id": "94183537",
        "outputId": "ae3a601e-1cf8-41c0-c25f-4faf5829991a"
      },
      "outputs": [
        {
          "data": {
            "text/html": [
              "<div>\n",
              "<style scoped>\n",
              "    .dataframe tbody tr th:only-of-type {\n",
              "        vertical-align: middle;\n",
              "    }\n",
              "\n",
              "    .dataframe tbody tr th {\n",
              "        vertical-align: top;\n",
              "    }\n",
              "\n",
              "    .dataframe thead th {\n",
              "        text-align: right;\n",
              "    }\n",
              "</style>\n",
              "<table border=\"1\" class=\"dataframe\">\n",
              "  <thead>\n",
              "    <tr style=\"text-align: right;\">\n",
              "      <th></th>\n",
              "      <th>buying</th>\n",
              "      <th>maint</th>\n",
              "      <th>doors</th>\n",
              "      <th>persons</th>\n",
              "      <th>lug_boot</th>\n",
              "      <th>safety</th>\n",
              "      <th>class</th>\n",
              "    </tr>\n",
              "  </thead>\n",
              "  <tbody>\n",
              "    <tr>\n",
              "      <th>0</th>\n",
              "      <td>vhigh</td>\n",
              "      <td>vhigh</td>\n",
              "      <td>2</td>\n",
              "      <td>2</td>\n",
              "      <td>small</td>\n",
              "      <td>low</td>\n",
              "      <td>unacc</td>\n",
              "    </tr>\n",
              "    <tr>\n",
              "      <th>1</th>\n",
              "      <td>vhigh</td>\n",
              "      <td>vhigh</td>\n",
              "      <td>2</td>\n",
              "      <td>2</td>\n",
              "      <td>small</td>\n",
              "      <td>med</td>\n",
              "      <td>unacc</td>\n",
              "    </tr>\n",
              "    <tr>\n",
              "      <th>2</th>\n",
              "      <td>vhigh</td>\n",
              "      <td>vhigh</td>\n",
              "      <td>2</td>\n",
              "      <td>2</td>\n",
              "      <td>small</td>\n",
              "      <td>high</td>\n",
              "      <td>unacc</td>\n",
              "    </tr>\n",
              "    <tr>\n",
              "      <th>3</th>\n",
              "      <td>vhigh</td>\n",
              "      <td>vhigh</td>\n",
              "      <td>2</td>\n",
              "      <td>2</td>\n",
              "      <td>med</td>\n",
              "      <td>low</td>\n",
              "      <td>unacc</td>\n",
              "    </tr>\n",
              "    <tr>\n",
              "      <th>4</th>\n",
              "      <td>vhigh</td>\n",
              "      <td>vhigh</td>\n",
              "      <td>2</td>\n",
              "      <td>2</td>\n",
              "      <td>med</td>\n",
              "      <td>med</td>\n",
              "      <td>unacc</td>\n",
              "    </tr>\n",
              "    <tr>\n",
              "      <th>...</th>\n",
              "      <td>...</td>\n",
              "      <td>...</td>\n",
              "      <td>...</td>\n",
              "      <td>...</td>\n",
              "      <td>...</td>\n",
              "      <td>...</td>\n",
              "      <td>...</td>\n",
              "    </tr>\n",
              "    <tr>\n",
              "      <th>1723</th>\n",
              "      <td>low</td>\n",
              "      <td>low</td>\n",
              "      <td>5more</td>\n",
              "      <td>more</td>\n",
              "      <td>med</td>\n",
              "      <td>med</td>\n",
              "      <td>good</td>\n",
              "    </tr>\n",
              "    <tr>\n",
              "      <th>1724</th>\n",
              "      <td>low</td>\n",
              "      <td>low</td>\n",
              "      <td>5more</td>\n",
              "      <td>more</td>\n",
              "      <td>med</td>\n",
              "      <td>high</td>\n",
              "      <td>vgood</td>\n",
              "    </tr>\n",
              "    <tr>\n",
              "      <th>1725</th>\n",
              "      <td>low</td>\n",
              "      <td>low</td>\n",
              "      <td>5more</td>\n",
              "      <td>more</td>\n",
              "      <td>big</td>\n",
              "      <td>low</td>\n",
              "      <td>unacc</td>\n",
              "    </tr>\n",
              "    <tr>\n",
              "      <th>1726</th>\n",
              "      <td>low</td>\n",
              "      <td>low</td>\n",
              "      <td>5more</td>\n",
              "      <td>more</td>\n",
              "      <td>big</td>\n",
              "      <td>med</td>\n",
              "      <td>good</td>\n",
              "    </tr>\n",
              "    <tr>\n",
              "      <th>1727</th>\n",
              "      <td>low</td>\n",
              "      <td>low</td>\n",
              "      <td>5more</td>\n",
              "      <td>more</td>\n",
              "      <td>big</td>\n",
              "      <td>high</td>\n",
              "      <td>vgood</td>\n",
              "    </tr>\n",
              "  </tbody>\n",
              "</table>\n",
              "<p>1728 rows × 7 columns</p>\n",
              "</div>"
            ],
            "text/plain": [
              "     buying  maint  doors persons lug_boot safety  class\n",
              "0     vhigh  vhigh      2       2    small    low  unacc\n",
              "1     vhigh  vhigh      2       2    small    med  unacc\n",
              "2     vhigh  vhigh      2       2    small   high  unacc\n",
              "3     vhigh  vhigh      2       2      med    low  unacc\n",
              "4     vhigh  vhigh      2       2      med    med  unacc\n",
              "...     ...    ...    ...     ...      ...    ...    ...\n",
              "1723    low    low  5more    more      med    med   good\n",
              "1724    low    low  5more    more      med   high  vgood\n",
              "1725    low    low  5more    more      big    low  unacc\n",
              "1726    low    low  5more    more      big    med   good\n",
              "1727    low    low  5more    more      big   high  vgood\n",
              "\n",
              "[1728 rows x 7 columns]"
            ]
          },
          "execution_count": 4,
          "metadata": {},
          "output_type": "execute_result"
        }
      ],
      "source": [
        "ddf"
      ]
    },
    {
      "cell_type": "markdown",
      "id": "ee254273",
      "metadata": {
        "id": "ee254273"
      },
      "source": [
        "## 해당 데이터 인코딩 진행"
      ]
    },
    {
      "cell_type": "code",
      "execution_count": null,
      "id": "1f81b3a2",
      "metadata": {
        "id": "1f81b3a2"
      },
      "outputs": [],
      "source": [
        "# 위의 컬럼은 다 사용하기!\n",
        "\n",
        "X = df.drop(['class'],axis =1 )\n",
        "y = df['class']"
      ]
    },
    {
      "cell_type": "code",
      "execution_count": null,
      "id": "8180a4cc",
      "metadata": {
        "id": "8180a4cc"
      },
      "outputs": [],
      "source": [
        "# 인코딩 진행해야 함\n",
        "#train test로도 나눠야 함\n",
        "\n",
        "from sklearn.model_selection import train_test_split\n",
        "X_train, X_test, y_train ,y_test = train_test_split(X, y, test_size =0.3, random_state=111)"
      ]
    },
    {
      "cell_type": "code",
      "execution_count": null,
      "id": "4f6b4eea",
      "metadata": {
        "id": "4f6b4eea"
      },
      "outputs": [],
      "source": [
        "# 인코딩\n",
        "import category_encoders as ce"
      ]
    },
    {
      "cell_type": "code",
      "execution_count": null,
      "id": "1b79f879",
      "metadata": {
        "id": "1b79f879",
        "outputId": "a1fd3189-d87e-4d25-f230-08a469c39bcb"
      },
      "outputs": [
        {
          "data": {
            "text/plain": [
              "Index(['buying', 'maint', 'doors', 'persons', 'lug_boot', 'safety'], dtype='object')"
            ]
          },
          "execution_count": 72,
          "metadata": {},
          "output_type": "execute_result"
        }
      ],
      "source": [
        "X.columns"
      ]
    },
    {
      "cell_type": "code",
      "execution_count": null,
      "id": "d46e67e9",
      "metadata": {
        "id": "d46e67e9"
      },
      "outputs": [],
      "source": [
        "encoder = ce.OrdinalEncoder(cols=['buying', 'maint', 'doors', 'persons', 'lug_boot', 'safety'])"
      ]
    },
    {
      "cell_type": "markdown",
      "id": "660c0af0",
      "metadata": {
        "id": "660c0af0"
      },
      "source": [
        "- OrdinalEncoder 이용해서 기존 x 피처들 인코딩"
      ]
    },
    {
      "cell_type": "code",
      "execution_count": null,
      "id": "f635635d",
      "metadata": {
        "id": "f635635d"
      },
      "outputs": [],
      "source": [
        "X_train = encoder.fit_transform(X_train)\n",
        "X_test = encoder.fit_transform(X_test)"
      ]
    },
    {
      "cell_type": "code",
      "execution_count": null,
      "id": "8b1ee5ad",
      "metadata": {
        "id": "8b1ee5ad",
        "outputId": "c3eaea99-7eea-4409-950f-5104d1e3e3a1"
      },
      "outputs": [
        {
          "data": {
            "text/html": [
              "<div>\n",
              "<style scoped>\n",
              "    .dataframe tbody tr th:only-of-type {\n",
              "        vertical-align: middle;\n",
              "    }\n",
              "\n",
              "    .dataframe tbody tr th {\n",
              "        vertical-align: top;\n",
              "    }\n",
              "\n",
              "    .dataframe thead th {\n",
              "        text-align: right;\n",
              "    }\n",
              "</style>\n",
              "<table border=\"1\" class=\"dataframe\">\n",
              "  <thead>\n",
              "    <tr style=\"text-align: right;\">\n",
              "      <th></th>\n",
              "      <th>buying</th>\n",
              "      <th>maint</th>\n",
              "      <th>doors</th>\n",
              "      <th>persons</th>\n",
              "      <th>lug_boot</th>\n",
              "      <th>safety</th>\n",
              "    </tr>\n",
              "  </thead>\n",
              "  <tbody>\n",
              "    <tr>\n",
              "      <th>1288</th>\n",
              "      <td>1</td>\n",
              "      <td>1</td>\n",
              "      <td>1</td>\n",
              "      <td>1</td>\n",
              "      <td>1</td>\n",
              "      <td>1</td>\n",
              "    </tr>\n",
              "    <tr>\n",
              "      <th>1056</th>\n",
              "      <td>1</td>\n",
              "      <td>2</td>\n",
              "      <td>1</td>\n",
              "      <td>2</td>\n",
              "      <td>2</td>\n",
              "      <td>2</td>\n",
              "    </tr>\n",
              "    <tr>\n",
              "      <th>1188</th>\n",
              "      <td>1</td>\n",
              "      <td>1</td>\n",
              "      <td>2</td>\n",
              "      <td>2</td>\n",
              "      <td>1</td>\n",
              "      <td>2</td>\n",
              "    </tr>\n",
              "    <tr>\n",
              "      <th>1099</th>\n",
              "      <td>1</td>\n",
              "      <td>3</td>\n",
              "      <td>2</td>\n",
              "      <td>1</td>\n",
              "      <td>1</td>\n",
              "      <td>1</td>\n",
              "    </tr>\n",
              "    <tr>\n",
              "      <th>463</th>\n",
              "      <td>2</td>\n",
              "      <td>4</td>\n",
              "      <td>3</td>\n",
              "      <td>2</td>\n",
              "      <td>2</td>\n",
              "      <td>1</td>\n",
              "    </tr>\n",
              "    <tr>\n",
              "      <th>...</th>\n",
              "      <td>...</td>\n",
              "      <td>...</td>\n",
              "      <td>...</td>\n",
              "      <td>...</td>\n",
              "      <td>...</td>\n",
              "      <td>...</td>\n",
              "    </tr>\n",
              "    <tr>\n",
              "      <th>681</th>\n",
              "      <td>2</td>\n",
              "      <td>3</td>\n",
              "      <td>3</td>\n",
              "      <td>2</td>\n",
              "      <td>3</td>\n",
              "      <td>2</td>\n",
              "    </tr>\n",
              "    <tr>\n",
              "      <th>1299</th>\n",
              "      <td>3</td>\n",
              "      <td>4</td>\n",
              "      <td>2</td>\n",
              "      <td>2</td>\n",
              "      <td>2</td>\n",
              "      <td>2</td>\n",
              "    </tr>\n",
              "    <tr>\n",
              "      <th>86</th>\n",
              "      <td>4</td>\n",
              "      <td>4</td>\n",
              "      <td>1</td>\n",
              "      <td>2</td>\n",
              "      <td>2</td>\n",
              "      <td>3</td>\n",
              "    </tr>\n",
              "    <tr>\n",
              "      <th>724</th>\n",
              "      <td>2</td>\n",
              "      <td>3</td>\n",
              "      <td>4</td>\n",
              "      <td>1</td>\n",
              "      <td>2</td>\n",
              "      <td>1</td>\n",
              "    </tr>\n",
              "    <tr>\n",
              "      <th>876</th>\n",
              "      <td>1</td>\n",
              "      <td>4</td>\n",
              "      <td>2</td>\n",
              "      <td>3</td>\n",
              "      <td>2</td>\n",
              "      <td>2</td>\n",
              "    </tr>\n",
              "  </tbody>\n",
              "</table>\n",
              "<p>1209 rows × 6 columns</p>\n",
              "</div>"
            ],
            "text/plain": [
              "      buying  maint  doors  persons  lug_boot  safety\n",
              "1288       1      1      1        1         1       1\n",
              "1056       1      2      1        2         2       2\n",
              "1188       1      1      2        2         1       2\n",
              "1099       1      3      2        1         1       1\n",
              "463        2      4      3        2         2       1\n",
              "...      ...    ...    ...      ...       ...     ...\n",
              "681        2      3      3        2         3       2\n",
              "1299       3      4      2        2         2       2\n",
              "86         4      4      1        2         2       3\n",
              "724        2      3      4        1         2       1\n",
              "876        1      4      2        3         2       2\n",
              "\n",
              "[1209 rows x 6 columns]"
            ]
          },
          "execution_count": 75,
          "metadata": {},
          "output_type": "execute_result"
        }
      ],
      "source": [
        "X_train"
      ]
    },
    {
      "cell_type": "code",
      "execution_count": null,
      "id": "4588abbc",
      "metadata": {
        "id": "4588abbc",
        "outputId": "18e5b929-9dcb-4208-99b5-db870d6056cf"
      },
      "outputs": [
        {
          "data": {
            "text/html": [
              "<div>\n",
              "<style scoped>\n",
              "    .dataframe tbody tr th:only-of-type {\n",
              "        vertical-align: middle;\n",
              "    }\n",
              "\n",
              "    .dataframe tbody tr th {\n",
              "        vertical-align: top;\n",
              "    }\n",
              "\n",
              "    .dataframe thead th {\n",
              "        text-align: right;\n",
              "    }\n",
              "</style>\n",
              "<table border=\"1\" class=\"dataframe\">\n",
              "  <thead>\n",
              "    <tr style=\"text-align: right;\">\n",
              "      <th></th>\n",
              "      <th>buying</th>\n",
              "      <th>maint</th>\n",
              "      <th>doors</th>\n",
              "      <th>persons</th>\n",
              "      <th>lug_boot</th>\n",
              "      <th>safety</th>\n",
              "    </tr>\n",
              "  </thead>\n",
              "  <tbody>\n",
              "    <tr>\n",
              "      <th>18</th>\n",
              "      <td>1</td>\n",
              "      <td>1</td>\n",
              "      <td>1</td>\n",
              "      <td>1</td>\n",
              "      <td>1</td>\n",
              "      <td>1</td>\n",
              "    </tr>\n",
              "    <tr>\n",
              "      <th>1309</th>\n",
              "      <td>2</td>\n",
              "      <td>1</td>\n",
              "      <td>1</td>\n",
              "      <td>2</td>\n",
              "      <td>2</td>\n",
              "      <td>2</td>\n",
              "    </tr>\n",
              "    <tr>\n",
              "      <th>1083</th>\n",
              "      <td>3</td>\n",
              "      <td>2</td>\n",
              "      <td>1</td>\n",
              "      <td>3</td>\n",
              "      <td>2</td>\n",
              "      <td>1</td>\n",
              "    </tr>\n",
              "    <tr>\n",
              "      <th>655</th>\n",
              "      <td>4</td>\n",
              "      <td>2</td>\n",
              "      <td>1</td>\n",
              "      <td>3</td>\n",
              "      <td>3</td>\n",
              "      <td>2</td>\n",
              "    </tr>\n",
              "    <tr>\n",
              "      <th>282</th>\n",
              "      <td>1</td>\n",
              "      <td>2</td>\n",
              "      <td>2</td>\n",
              "      <td>2</td>\n",
              "      <td>2</td>\n",
              "      <td>1</td>\n",
              "    </tr>\n",
              "    <tr>\n",
              "      <th>...</th>\n",
              "      <td>...</td>\n",
              "      <td>...</td>\n",
              "      <td>...</td>\n",
              "      <td>...</td>\n",
              "      <td>...</td>\n",
              "      <td>...</td>\n",
              "    </tr>\n",
              "    <tr>\n",
              "      <th>565</th>\n",
              "      <td>4</td>\n",
              "      <td>4</td>\n",
              "      <td>1</td>\n",
              "      <td>1</td>\n",
              "      <td>3</td>\n",
              "      <td>2</td>\n",
              "    </tr>\n",
              "    <tr>\n",
              "      <th>1663</th>\n",
              "      <td>2</td>\n",
              "      <td>3</td>\n",
              "      <td>4</td>\n",
              "      <td>2</td>\n",
              "      <td>3</td>\n",
              "      <td>2</td>\n",
              "    </tr>\n",
              "    <tr>\n",
              "      <th>538</th>\n",
              "      <td>4</td>\n",
              "      <td>1</td>\n",
              "      <td>3</td>\n",
              "      <td>1</td>\n",
              "      <td>3</td>\n",
              "      <td>2</td>\n",
              "    </tr>\n",
              "    <tr>\n",
              "      <th>969</th>\n",
              "      <td>3</td>\n",
              "      <td>1</td>\n",
              "      <td>3</td>\n",
              "      <td>1</td>\n",
              "      <td>3</td>\n",
              "      <td>1</td>\n",
              "    </tr>\n",
              "    <tr>\n",
              "      <th>921</th>\n",
              "      <td>3</td>\n",
              "      <td>1</td>\n",
              "      <td>2</td>\n",
              "      <td>3</td>\n",
              "      <td>2</td>\n",
              "      <td>1</td>\n",
              "    </tr>\n",
              "  </tbody>\n",
              "</table>\n",
              "<p>519 rows × 6 columns</p>\n",
              "</div>"
            ],
            "text/plain": [
              "      buying  maint  doors  persons  lug_boot  safety\n",
              "18         1      1      1        1         1       1\n",
              "1309       2      1      1        2         2       2\n",
              "1083       3      2      1        3         2       1\n",
              "655        4      2      1        3         3       2\n",
              "282        1      2      2        2         2       1\n",
              "...      ...    ...    ...      ...       ...     ...\n",
              "565        4      4      1        1         3       2\n",
              "1663       2      3      4        2         3       2\n",
              "538        4      1      3        1         3       2\n",
              "969        3      1      3        1         3       1\n",
              "921        3      1      2        3         2       1\n",
              "\n",
              "[519 rows x 6 columns]"
            ]
          },
          "execution_count": 20,
          "metadata": {},
          "output_type": "execute_result"
        }
      ],
      "source": [
        "X_test"
      ]
    },
    {
      "cell_type": "code",
      "execution_count": null,
      "id": "c20ab635",
      "metadata": {
        "id": "c20ab635",
        "outputId": "fc0624ac-2e28-4194-e7c8-36218369fdb7"
      },
      "outputs": [
        {
          "data": {
            "text/html": [
              "<div>\n",
              "<style scoped>\n",
              "    .dataframe tbody tr th:only-of-type {\n",
              "        vertical-align: middle;\n",
              "    }\n",
              "\n",
              "    .dataframe tbody tr th {\n",
              "        vertical-align: top;\n",
              "    }\n",
              "\n",
              "    .dataframe thead th {\n",
              "        text-align: right;\n",
              "    }\n",
              "</style>\n",
              "<table border=\"1\" class=\"dataframe\">\n",
              "  <thead>\n",
              "    <tr style=\"text-align: right;\">\n",
              "      <th></th>\n",
              "      <th>buying</th>\n",
              "      <th>maint</th>\n",
              "      <th>doors</th>\n",
              "      <th>persons</th>\n",
              "      <th>lug_boot</th>\n",
              "      <th>safety</th>\n",
              "    </tr>\n",
              "  </thead>\n",
              "  <tbody>\n",
              "    <tr>\n",
              "      <th>18</th>\n",
              "      <td>1</td>\n",
              "      <td>1</td>\n",
              "      <td>1</td>\n",
              "      <td>1</td>\n",
              "      <td>1</td>\n",
              "      <td>1</td>\n",
              "    </tr>\n",
              "    <tr>\n",
              "      <th>1309</th>\n",
              "      <td>2</td>\n",
              "      <td>1</td>\n",
              "      <td>1</td>\n",
              "      <td>2</td>\n",
              "      <td>2</td>\n",
              "      <td>2</td>\n",
              "    </tr>\n",
              "    <tr>\n",
              "      <th>1083</th>\n",
              "      <td>3</td>\n",
              "      <td>2</td>\n",
              "      <td>1</td>\n",
              "      <td>3</td>\n",
              "      <td>2</td>\n",
              "      <td>1</td>\n",
              "    </tr>\n",
              "    <tr>\n",
              "      <th>655</th>\n",
              "      <td>4</td>\n",
              "      <td>2</td>\n",
              "      <td>1</td>\n",
              "      <td>3</td>\n",
              "      <td>3</td>\n",
              "      <td>2</td>\n",
              "    </tr>\n",
              "    <tr>\n",
              "      <th>282</th>\n",
              "      <td>1</td>\n",
              "      <td>2</td>\n",
              "      <td>2</td>\n",
              "      <td>2</td>\n",
              "      <td>2</td>\n",
              "      <td>1</td>\n",
              "    </tr>\n",
              "    <tr>\n",
              "      <th>...</th>\n",
              "      <td>...</td>\n",
              "      <td>...</td>\n",
              "      <td>...</td>\n",
              "      <td>...</td>\n",
              "      <td>...</td>\n",
              "      <td>...</td>\n",
              "    </tr>\n",
              "    <tr>\n",
              "      <th>565</th>\n",
              "      <td>4</td>\n",
              "      <td>4</td>\n",
              "      <td>1</td>\n",
              "      <td>1</td>\n",
              "      <td>3</td>\n",
              "      <td>2</td>\n",
              "    </tr>\n",
              "    <tr>\n",
              "      <th>1663</th>\n",
              "      <td>2</td>\n",
              "      <td>3</td>\n",
              "      <td>4</td>\n",
              "      <td>2</td>\n",
              "      <td>3</td>\n",
              "      <td>2</td>\n",
              "    </tr>\n",
              "    <tr>\n",
              "      <th>538</th>\n",
              "      <td>4</td>\n",
              "      <td>1</td>\n",
              "      <td>3</td>\n",
              "      <td>1</td>\n",
              "      <td>3</td>\n",
              "      <td>2</td>\n",
              "    </tr>\n",
              "    <tr>\n",
              "      <th>969</th>\n",
              "      <td>3</td>\n",
              "      <td>1</td>\n",
              "      <td>3</td>\n",
              "      <td>1</td>\n",
              "      <td>3</td>\n",
              "      <td>1</td>\n",
              "    </tr>\n",
              "    <tr>\n",
              "      <th>921</th>\n",
              "      <td>3</td>\n",
              "      <td>1</td>\n",
              "      <td>2</td>\n",
              "      <td>3</td>\n",
              "      <td>2</td>\n",
              "      <td>1</td>\n",
              "    </tr>\n",
              "  </tbody>\n",
              "</table>\n",
              "<p>519 rows × 6 columns</p>\n",
              "</div>"
            ],
            "text/plain": [
              "      buying  maint  doors  persons  lug_boot  safety\n",
              "18         1      1      1        1         1       1\n",
              "1309       2      1      1        2         2       2\n",
              "1083       3      2      1        3         2       1\n",
              "655        4      2      1        3         3       2\n",
              "282        1      2      2        2         2       1\n",
              "...      ...    ...    ...      ...       ...     ...\n",
              "565        4      4      1        1         3       2\n",
              "1663       2      3      4        2         3       2\n",
              "538        4      1      3        1         3       2\n",
              "969        3      1      3        1         3       1\n",
              "921        3      1      2        3         2       1\n",
              "\n",
              "[519 rows x 6 columns]"
            ]
          },
          "execution_count": 21,
          "metadata": {},
          "output_type": "execute_result"
        }
      ],
      "source": [
        "X_test"
      ]
    },
    {
      "cell_type": "markdown",
      "id": "476c7661",
      "metadata": {
        "id": "476c7661"
      },
      "source": [
        "## Rf 모델 학습 진행"
      ]
    },
    {
      "cell_type": "code",
      "execution_count": null,
      "id": "edf8d5c3",
      "metadata": {
        "id": "edf8d5c3"
      },
      "outputs": [],
      "source": [
        "from sklearn.ensemble import RandomForestClassifier\n",
        "\n",
        "rfc1 = RandomForestClassifier(n_estimators=10, random_state=111) #rfc 모델\n",
        "rfc1.fit(X_train, y_train)\n",
        "y_pred1 = rfc1.predict(X_test) #예측값"
      ]
    },
    {
      "cell_type": "code",
      "execution_count": null,
      "id": "d72209fd",
      "metadata": {
        "id": "d72209fd",
        "outputId": "ec3b01f2-21c3-4264-8db8-55cf4d859652"
      },
      "outputs": [
        {
          "name": "stdout",
          "output_type": "stream",
          "text": [
            "모델 정확도 0.5087\n"
          ]
        }
      ],
      "source": [
        "#정확도 확인하기\n",
        "from sklearn.metrics import accuracy_score\n",
        "print('모델 정확도 {0:0.4f}'.format(accuracy_score(y_test, y_pred1)))"
      ]
    },
    {
      "cell_type": "markdown",
      "id": "1dc4443b",
      "metadata": {
        "id": "1dc4443b"
      },
      "source": [
        "### RF 모델 튜닝을 통해서 정확도를 올려보자!"
      ]
    },
    {
      "cell_type": "code",
      "execution_count": null,
      "id": "3e166fb4",
      "metadata": {
        "id": "3e166fb4"
      },
      "outputs": [],
      "source": [
        "from sklearn.ensemble import RandomForestClassifier\n",
        "\n",
        "rfc2 = RandomForestClassifier(n_estimators=100, random_state=111) #rfc 모델\n",
        "rfc2.fit(X_train, y_train)\n",
        "y_pred2 = rfc2.predict(X_test) #예측값"
      ]
    },
    {
      "cell_type": "code",
      "execution_count": null,
      "id": "1983d5c5",
      "metadata": {
        "id": "1983d5c5",
        "outputId": "300c7e85-9701-4f41-b308-48924aa67751"
      },
      "outputs": [
        {
          "name": "stdout",
          "output_type": "stream",
          "text": [
            "모델 정확도 0.5087\n"
          ]
        }
      ],
      "source": [
        "#정확도 확인하기\n",
        "from sklearn.metrics import accuracy_score\n",
        "print('모델 정확도 {0:0.4f}'.format(accuracy_score(y_test, y_pred2)))"
      ]
    },
    {
      "cell_type": "markdown",
      "id": "4b63554e",
      "metadata": {
        "id": "4b63554e"
      },
      "source": [
        "- n_estimators 200으로 올려보기!"
      ]
    },
    {
      "cell_type": "code",
      "execution_count": null,
      "id": "40d44f48",
      "metadata": {
        "id": "40d44f48"
      },
      "outputs": [],
      "source": [
        "from sklearn.ensemble import RandomForestClassifier\n",
        "\n",
        "rfc3 = RandomForestClassifier(n_estimators=200, random_state=111) #rfc 모델\n",
        "rfc3.fit(X_train, y_train)\n",
        "y_pred3 = rfc3.predict(X_test) #예측값"
      ]
    },
    {
      "cell_type": "code",
      "execution_count": null,
      "id": "ff73d07a",
      "metadata": {
        "id": "ff73d07a",
        "outputId": "4637b815-0071-40d1-e79c-a71a4b61d463"
      },
      "outputs": [
        {
          "name": "stdout",
          "output_type": "stream",
          "text": [
            "모델 정확도 0.5106\n"
          ]
        }
      ],
      "source": [
        "#정확도 확인하기\n",
        "from sklearn.metrics import accuracy_score\n",
        "print('모델 정확도 {0:0.4f}'.format(accuracy_score(y_test, y_pred3)))"
      ]
    },
    {
      "cell_type": "markdown",
      "id": "c5e79c3b",
      "metadata": {
        "id": "c5e79c3b"
      },
      "source": [
        "- 학습하기 위해 n_estimators 올려보니 성능 0.01정도 성능이 올라갔다!"
      ]
    },
    {
      "cell_type": "code",
      "execution_count": null,
      "id": "0ba6d7bf",
      "metadata": {
        "id": "0ba6d7bf"
      },
      "outputs": [],
      "source": [
        "from sklearn.ensemble import RandomForestClassifier\n",
        "\n",
        "rfc4 = RandomForestClassifier(n_estimators=300, random_state=111) #rfc 모델\n",
        "rfc4.fit(X_train, y_train)\n",
        "y_pred4 = rfc4.predict(X_test) #예측값"
      ]
    },
    {
      "cell_type": "code",
      "execution_count": null,
      "id": "6a60a8bd",
      "metadata": {
        "id": "6a60a8bd",
        "outputId": "855451f6-6729-48b5-fd18-a58423cfaa5e"
      },
      "outputs": [
        {
          "name": "stdout",
          "output_type": "stream",
          "text": [
            "모델 정확도 0.5087\n"
          ]
        }
      ],
      "source": [
        "#정확도 확인하기\n",
        "from sklearn.metrics import accuracy_score\n",
        "print('모델 정확도 {0:0.4f}'.format(accuracy_score(y_test, y_pred4)))"
      ]
    },
    {
      "cell_type": "code",
      "execution_count": null,
      "id": "d31cf4f6",
      "metadata": {
        "id": "d31cf4f6"
      },
      "outputs": [],
      "source": [
        "from sklearn.ensemble import RandomForestClassifier\n",
        "\n",
        "rfc5 = RandomForestClassifier(n_estimators=500, random_state=111) #rfc 모델\n",
        "rfc5.fit(X_train, y_train)\n",
        "y_pred5 = rfc5.predict(X_test) #예측값"
      ]
    },
    {
      "cell_type": "code",
      "execution_count": null,
      "id": "5c483342",
      "metadata": {
        "id": "5c483342",
        "outputId": "8116bb96-6112-48d6-9723-fcabfe0c795a"
      },
      "outputs": [
        {
          "name": "stdout",
          "output_type": "stream",
          "text": [
            "모델 정확도 0.5067\n"
          ]
        }
      ],
      "source": [
        "#정확도 확인하기\n",
        "from sklearn.metrics import accuracy_score\n",
        "print('모델 정확도 {0:0.4f}'.format(accuracy_score(y_test, y_pred5)))"
      ]
    },
    {
      "cell_type": "markdown",
      "id": "fd7c9d75",
      "metadata": {
        "id": "fd7c9d75"
      },
      "source": [
        "- 적정선의 n_estimators 를 지정해 줘야 한다!"
      ]
    },
    {
      "cell_type": "markdown",
      "id": "3ee88120",
      "metadata": {
        "id": "3ee88120"
      },
      "source": [
        "## RF의 피처의 중요도 확인하기!"
      ]
    },
    {
      "cell_type": "code",
      "execution_count": null,
      "id": "68a134fd",
      "metadata": {
        "id": "68a134fd"
      },
      "outputs": [],
      "source": [
        "feature_score= pd.Series(rfc3.feature_importances_, index= X_train.columns).sort_values(ascending=False)"
      ]
    },
    {
      "cell_type": "code",
      "execution_count": null,
      "id": "47572f92",
      "metadata": {
        "id": "47572f92",
        "outputId": "91d9db73-f4b1-4c76-f914-ed3d450a1982"
      },
      "outputs": [
        {
          "data": {
            "text/plain": [
              "safety      0.243247\n",
              "persons     0.237038\n",
              "buying      0.171129\n",
              "maint       0.157355\n",
              "doors       0.097487\n",
              "lug_boot    0.093744\n",
              "dtype: float64"
            ]
          },
          "execution_count": 43,
          "metadata": {},
          "output_type": "execute_result"
        }
      ],
      "source": [
        "#피처의 중요도를 확인할 수 있음\n",
        "feature_score"
      ]
    },
    {
      "cell_type": "code",
      "execution_count": null,
      "id": "b4debcb2",
      "metadata": {
        "id": "b4debcb2",
        "outputId": "d2eab1b2-2cbf-4cad-97c7-91a2a2f25dbd"
      },
      "outputs": [
        {
          "data": {
            "text/plain": [
              "<Axes: >"
            ]
          },
          "execution_count": 45,
          "metadata": {},
          "output_type": "execute_result"
        },
        {
          "data": {
            "image/png": "[encoded data removed]",
            "text/plain": [
              "<Figure size 640x480 with 1 Axes>"
            ]
          },
          "metadata": {},
          "output_type": "display_data"
        }
      ],
      "source": [
        "sns.barplot(x = feature_score, y=feature_score.index) # 시각화로 피처의 중요도를 확인"
      ]
    },
    {
      "cell_type": "markdown",
      "id": "03ebb694",
      "metadata": {
        "id": "03ebb694"
      },
      "source": [
        "## RF 피처의 중요도로 봤을 때\n",
        "### 중요도가 상대적으로 낮은 애를 빼도 성능에 큰 문제가 발생하지 않을 것 같다.\n",
        "- 차원을 축소해서 좀 더 성능을 높일 수 있지 않을까?"
      ]
    },
    {
      "cell_type": "code",
      "execution_count": null,
      "id": "4a23ae27",
      "metadata": {
        "id": "4a23ae27"
      },
      "outputs": [],
      "source": [
        "# 피처 중요도가 낮은 컬럼을 하나 제거하고 진행하기\n",
        "\n",
        "X = df.drop(['class','lug_boot'],axis =1 )\n",
        "y = df['class']"
      ]
    },
    {
      "cell_type": "code",
      "execution_count": null,
      "id": "947b3fee",
      "metadata": {
        "id": "947b3fee"
      },
      "outputs": [],
      "source": [
        "# 인코딩 진행해야 함\n",
        "#train test로도 나눠야 함\n",
        "\n",
        "from sklearn.model_selection import train_test_split\n",
        "X_train, X_test, y_train ,y_test = train_test_split(X, y, test_size =0.3, random_state=111)\n",
        "\n",
        "#인코딩 진행 ( 기존에서 2개 컬럼 제외 )\n",
        "encoder = ce.OrdinalEncoder(cols=['buying', 'maint', 'persons', 'safety','doors'])\n",
        "\n",
        "#인코딩\n",
        "X_train = encoder.fit_transform(X_train)\n",
        "X_test = encoder.fit_transform(X_test)"
      ]
    },
    {
      "cell_type": "markdown",
      "id": "a635599d",
      "metadata": {
        "id": "a635599d"
      },
      "source": [
        "- 피처 중요도가 낮은 2개의 컬럼을 삭제하고 동일하게 RF모델 학습 진행"
      ]
    },
    {
      "cell_type": "code",
      "execution_count": null,
      "id": "bd6e3587",
      "metadata": {
        "id": "bd6e3587"
      },
      "outputs": [],
      "source": [
        "from sklearn.ensemble import RandomForestClassifier\n",
        "\n",
        "rfc3 = RandomForestClassifier(n_estimators=300, random_state=111) #rfc 모델\n",
        "rfc3.fit(X_train, y_train)\n",
        "y_pred3 = rfc3.predict(X_test) #예측값"
      ]
    },
    {
      "cell_type": "code",
      "execution_count": null,
      "id": "638ca765",
      "metadata": {
        "id": "638ca765",
        "outputId": "a3b335ff-6488-4dcf-a6cc-a1e060da9baa"
      },
      "outputs": [
        {
          "name": "stdout",
          "output_type": "stream",
          "text": [
            "모델 정확도 0.4566\n"
          ]
        }
      ],
      "source": [
        "#정확도 확인하기\n",
        "from sklearn.metrics import accuracy_score\n",
        "print('모델 정확도 {0:0.4f}'.format(accuracy_score(y_test, y_pred3)))"
      ]
    },
    {
      "cell_type": "markdown",
      "id": "f6c4cbc9",
      "metadata": {
        "id": "f6c4cbc9"
      },
      "source": [
        "- 2개의 피처를  제외 모델 정확도 0.4566"
      ]
    },
    {
      "cell_type": "code",
      "execution_count": null,
      "id": "40798d96",
      "metadata": {
        "id": "40798d96"
      },
      "outputs": [],
      "source": [
        "from sklearn.ensemble import RandomForestClassifier\n",
        "\n",
        "rfc3 = RandomForestClassifier(n_estimators=300, random_state=111) #rfc 모델\n",
        "rfc3.fit(X_train, y_train)\n",
        "y_pred3 = rfc3.predict(X_test) #예측값"
      ]
    },
    {
      "cell_type": "code",
      "execution_count": null,
      "id": "5526d8a2",
      "metadata": {
        "id": "5526d8a2",
        "outputId": "04a1e558-b3b9-4d44-82ee-47363fc73d9b"
      },
      "outputs": [
        {
          "name": "stdout",
          "output_type": "stream",
          "text": [
            "모델 정확도 0.4933\n"
          ]
        }
      ],
      "source": [
        "#정확도 확인하기\n",
        "from sklearn.metrics import accuracy_score\n",
        "print('모델 정확도 {0:0.4f}'.format(accuracy_score(y_test, y_pred3)))"
      ]
    },
    {
      "cell_type": "markdown",
      "id": "75fee874",
      "metadata": {
        "id": "75fee874"
      },
      "source": [
        "- 1개의 피처를 제외( 1개의 피처를 다시 추가하여 정확도 ) 0.4933 확인"
      ]
    },
    {
      "cell_type": "markdown",
      "id": "2aba938e",
      "metadata": {
        "id": "2aba938e"
      },
      "source": [
        "### 정확도 외에 다른 값들도 한 번 비교해 보자!"
      ]
    },
    {
      "cell_type": "code",
      "execution_count": null,
      "id": "fef57ca6",
      "metadata": {
        "id": "fef57ca6"
      },
      "outputs": [],
      "source": [
        "from sklearn.metrics import confusion_matrix\n",
        "from sklearn.metrics import classification_report"
      ]
    },
    {
      "cell_type": "code",
      "execution_count": null,
      "id": "72f4076d",
      "metadata": {
        "id": "72f4076d",
        "outputId": "d543eac8-3eac-445e-f9c2-a4d8b1e98f31"
      },
      "outputs": [
        {
          "name": "stdout",
          "output_type": "stream",
          "text": [
            "              precision    recall  f1-score   support\n",
            "\n",
            "         acc       0.13      0.16      0.14       104\n",
            "        good       0.00      0.00      0.00        22\n",
            "       unacc       0.68      0.64      0.66       372\n",
            "       vgood       0.12      0.10      0.11        21\n",
            "\n",
            "    accuracy                           0.49       519\n",
            "   macro avg       0.23      0.22      0.23       519\n",
            "weighted avg       0.51      0.49      0.50       519\n",
            "\n"
          ]
        }
      ],
      "source": [
        "print(classification_report(y_test, y_pred3))"
      ]
    },
    {
      "cell_type": "markdown",
      "id": "846c7e3c",
      "metadata": {
        "id": "846c7e3c"
      },
      "source": [
        "- 왜 이렇게 성능자체가 다 다르고 문제가 발생하는 것일까?\n",
        "- 클래스 자체의 불균형이 있기 때문에 이런 식으로 값이 엉망이 된다."
      ]
    },
    {
      "cell_type": "code",
      "execution_count": null,
      "id": "f19d2f1c",
      "metadata": {
        "id": "f19d2f1c",
        "outputId": "aa167055-7243-46a3-f152-2966898ef136"
      },
      "outputs": [
        {
          "data": {
            "text/plain": [
              "unacc    1210\n",
              "acc       384\n",
              "good       69\n",
              "vgood      65\n",
              "Name: class, dtype: int64"
            ]
          },
          "execution_count": 67,
          "metadata": {},
          "output_type": "execute_result"
        }
      ],
      "source": [
        "df['class'].value_counts()"
      ]
    },
    {
      "cell_type": "markdown",
      "id": "725f0dac",
      "metadata": {
        "id": "725f0dac"
      },
      "source": [
        "## RF 하이퍼파라미터 튜닝\n",
        "- GridSearch\n",
        "- BayesianOptimization\n",
        "- hyperopt\n",
        "\n",
        "- 세 가지로 비교해서 성능을 올려보자!"
      ]
    },
    {
      "cell_type": "markdown",
      "id": "8e66de36",
      "metadata": {
        "id": "8e66de36"
      },
      "source": [
        "- RF의 성능을 올리기 위해서 우리가 확인해야 할 하이퍼파라미터 max_depth, min_sample_split, min_sample_leaf, n_estimators 것들을 확인\n",
        "- 데이터에 따라 다를 수 있지만, 기본적으로 트리계열이기 때문에 해당 하이퍼파라미터들을 많이 보는 경우가 종종 있다."
      ]
    },
    {
      "cell_type": "markdown",
      "id": "1de924aa",
      "metadata": {
        "id": "1de924aa"
      },
      "source": [
        "- base_model 비교  - 정확도 0.5106"
      ]
    },
    {
      "cell_type": "markdown",
      "id": "07d802a7",
      "metadata": {
        "id": "07d802a7"
      },
      "source": [
        "- 하이퍼파라미터 튜닝 시 위의 하이퍼파라미터\n",
        " Invalid parameter 'min_sample_leaf' for estimator RandomForestClassifier(max_depth=8, random_state=111). Valid parameters are: ['bootstrap', 'ccp_alpha', 'class_weight', 'criterion', 'max_depth', 'max_features', 'max_leaf_nodes', 'max_samples', 'min_impurity_decrease', 'min_samples_leaf', 'min_samples_split', 'min_weight_fraction_leaf', 'n_estimators', 'n_jobs', 'oob_score', 'random_state', 'verbose', 'warm_start']"
      ]
    },
    {
      "cell_type": "code",
      "execution_count": null,
      "id": "c823c01e",
      "metadata": {
        "id": "c823c01e",
        "outputId": "9a13f862-f761-4c76-c1e1-a5cfeda321e9"
      },
      "outputs": [
        {
          "data": {
            "text/html": [
              "<style>#sk-container-id-2 {color: black;}#sk-container-id-2 pre{padding: 0;}#sk-container-id-2 div.sk-toggleable {background-color: white;}#sk-container-id-2 label.sk-toggleable__label {cursor: pointer;display: block;width: 100%;margin-bottom: 0;padding: 0.3em;box-sizing: border-box;text-align: center;}#sk-container-id-2 label.sk-toggleable__label-arrow:before {content: \"▸\";float: left;margin-right: 0.25em;color: #696969;}#sk-container-id-2 label.sk-toggleable__label-arrow:hover:before {color: black;}#sk-container-id-2 div.sk-estimator:hover label.sk-toggleable__label-arrow:before {color: black;}#sk-container-id-2 div.sk-toggleable__content {max-height: 0;max-width: 0;overflow: hidden;text-align: left;background-color: #f0f8ff;}#sk-container-id-2 div.sk-toggleable__content pre {margin: 0.2em;color: black;border-radius: 0.25em;background-color: #f0f8ff;}#sk-container-id-2 input.sk-toggleable__control:checked~div.sk-toggleable__content {max-height: 200px;max-width: 100%;overflow: auto;}#sk-container-id-2 input.sk-toggleable__control:checked~label.sk-toggleable__label-arrow:before {content: \"▾\";}#sk-container-id-2 div.sk-estimator input.sk-toggleable__control:checked~label.sk-toggleable__label {background-color: #d4ebff;}#sk-container-id-2 div.sk-label input.sk-toggleable__control:checked~label.sk-toggleable__label {background-color: #d4ebff;}#sk-container-id-2 input.sk-hidden--visually {border: 0;clip: rect(1px 1px 1px 1px);clip: rect(1px, 1px, 1px, 1px);height: 1px;margin: -1px;overflow: hidden;padding: 0;position: absolute;width: 1px;}#sk-container-id-2 div.sk-estimator {font-family: monospace;background-color: #f0f8ff;border: 1px dotted black;border-radius: 0.25em;box-sizing: border-box;margin-bottom: 0.5em;}#sk-container-id-2 div.sk-estimator:hover {background-color: #d4ebff;}#sk-container-id-2 div.sk-parallel-item::after {content: \"\";width: 100%;border-bottom: 1px solid gray;flex-grow: 1;}#sk-container-id-2 div.sk-label:hover label.sk-toggleable__label {background-color: #d4ebff;}#sk-container-id-2 div.sk-serial::before {content: \"\";position: absolute;border-left: 1px solid gray;box-sizing: border-box;top: 0;bottom: 0;left: 50%;z-index: 0;}#sk-container-id-2 div.sk-serial {display: flex;flex-direction: column;align-items: center;background-color: white;padding-right: 0.2em;padding-left: 0.2em;position: relative;}#sk-container-id-2 div.sk-item {position: relative;z-index: 1;}#sk-container-id-2 div.sk-parallel {display: flex;align-items: stretch;justify-content: center;background-color: white;position: relative;}#sk-container-id-2 div.sk-item::before, #sk-container-id-2 div.sk-parallel-item::before {content: \"\";position: absolute;border-left: 1px solid gray;box-sizing: border-box;top: 0;bottom: 0;left: 50%;z-index: -1;}#sk-container-id-2 div.sk-parallel-item {display: flex;flex-direction: column;z-index: 1;position: relative;background-color: white;}#sk-container-id-2 div.sk-parallel-item:first-child::after {align-self: flex-end;width: 50%;}#sk-container-id-2 div.sk-parallel-item:last-child::after {align-self: flex-start;width: 50%;}#sk-container-id-2 div.sk-parallel-item:only-child::after {width: 0;}#sk-container-id-2 div.sk-dashed-wrapped {border: 1px dashed gray;margin: 0 0.4em 0.5em 0.4em;box-sizing: border-box;padding-bottom: 0.4em;background-color: white;}#sk-container-id-2 div.sk-label label {font-family: monospace;font-weight: bold;display: inline-block;line-height: 1.2em;}#sk-container-id-2 div.sk-label-container {text-align: center;}#sk-container-id-2 div.sk-container {/* jupyter's `normalize.less` sets `[hidden] { display: none; }` but bootstrap.min.css set `[hidden] { display: none !important; }` so we also need the `!important` here to be able to override the default hidden behavior on the sphinx rendered scikit-learn.org. See: https://github.com/scikit-learn/scikit-learn/issues/21755 */display: inline-block !important;position: relative;}#sk-container-id-2 div.sk-text-repr-fallback {display: none;}</style><div id=\"sk-container-id-2\" class=\"sk-top-container\"><div class=\"sk-text-repr-fallback\"><pre>GridSearchCV(cv=3, estimator=RandomForestClassifier(random_state=111),\n",
              "             param_grid={&#x27;max_depth&#x27;: [8, 16, 24],\n",
              "                         &#x27;min_samples_leaf&#x27;: [1, 5, 10]})</pre><b>In a Jupyter environment, please rerun this cell to show the HTML representation or trust the notebook. <br />On GitHub, the HTML representation is unable to render, please try loading this page with nbviewer.org.</b></div><div class=\"sk-container\" hidden><div class=\"sk-item sk-dashed-wrapped\"><div class=\"sk-label-container\"><div class=\"sk-label sk-toggleable\"><input class=\"sk-toggleable__control sk-hidden--visually\" id=\"sk-estimator-id-2\" type=\"checkbox\" ><label for=\"sk-estimator-id-2\" class=\"sk-toggleable__label sk-toggleable__label-arrow\">GridSearchCV</label><div class=\"sk-toggleable__content\"><pre>GridSearchCV(cv=3, estimator=RandomForestClassifier(random_state=111),\n",
              "             param_grid={&#x27;max_depth&#x27;: [8, 16, 24],\n",
              "                         &#x27;min_samples_leaf&#x27;: [1, 5, 10]})</pre></div></div></div><div class=\"sk-parallel\"><div class=\"sk-parallel-item\"><div class=\"sk-item\"><div class=\"sk-label-container\"><div class=\"sk-label sk-toggleable\"><input class=\"sk-toggleable__control sk-hidden--visually\" id=\"sk-estimator-id-3\" type=\"checkbox\" ><label for=\"sk-estimator-id-3\" class=\"sk-toggleable__label sk-toggleable__label-arrow\">estimator: RandomForestClassifier</label><div class=\"sk-toggleable__content\"><pre>RandomForestClassifier(random_state=111)</pre></div></div></div><div class=\"sk-serial\"><div class=\"sk-item\"><div class=\"sk-estimator sk-toggleable\"><input class=\"sk-toggleable__control sk-hidden--visually\" id=\"sk-estimator-id-4\" type=\"checkbox\" ><label for=\"sk-estimator-id-4\" class=\"sk-toggleable__label sk-toggleable__label-arrow\">RandomForestClassifier</label><div class=\"sk-toggleable__content\"><pre>RandomForestClassifier(random_state=111)</pre></div></div></div></div></div></div></div></div></div></div>"
            ],
            "text/plain": [
              "GridSearchCV(cv=3, estimator=RandomForestClassifier(random_state=111),\n",
              "             param_grid={'max_depth': [8, 16, 24],\n",
              "                         'min_samples_leaf': [1, 5, 10]})"
            ]
          },
          "execution_count": 81,
          "metadata": {},
          "output_type": "execute_result"
        }
      ],
      "source": [
        "from sklearn.model_selection import GridSearchCV\n",
        "\n",
        "params = {\n",
        "    'max_depth':[8,16,24],\n",
        "    'min_samples_leaf':[1,5,10]\n",
        "}\n",
        "\n",
        "rf_clf = RandomForestClassifier(random_state=111) # n_estimators=300 은 따로 넣지 않았지만 직접 넣어서도 수행해 보세요!\n",
        "grid_cv = GridSearchCV(rf_clf, param_grid = params, cv =3) #꼭 3을 할 필욘 없고 5, 10 다 가능\n",
        "grid_cv.fit(X_train, y_train)"
      ]
    },
    {
      "cell_type": "code",
      "execution_count": null,
      "id": "01adf8e4",
      "metadata": {
        "id": "01adf8e4",
        "outputId": "ae942f41-2b38-4ff9-b757-9b230471dc54"
      },
      "outputs": [
        {
          "name": "stdout",
          "output_type": "stream",
          "text": [
            "{'max_depth': 16, 'min_samples_leaf': 1}\n",
            "0.8586\n"
          ]
        }
      ],
      "source": [
        "print(grid_cv.best_params_)\n",
        "print('{0:.4f}'.format(grid_cv.best_score_))"
      ]
    },
    {
      "cell_type": "code",
      "execution_count": null,
      "id": "0ad8ad6e",
      "metadata": {
        "id": "0ad8ad6e",
        "outputId": "3995f98d-89cf-43fc-df3f-6c3c2e3844f1"
      },
      "outputs": [
        {
          "name": "stdout",
          "output_type": "stream",
          "text": [
            "모델 정확도 0.5087\n"
          ]
        }
      ],
      "source": [
        "#test로 비교해 보자!\n",
        "rf_clf_grid = RandomForestClassifier(random_state=111, max_depth=16, min_samples_leaf=1 )\n",
        "rf_clf_grid.fit(X_train, y_train)\n",
        "pred_grid = rf_clf_grid.predict(X_test)\n",
        "print('모델 정확도 {0:0.4f}'.format(accuracy_score(y_test, pred_grid)))"
      ]
    },
    {
      "cell_type": "code",
      "execution_count": null,
      "id": "1462ba42",
      "metadata": {
        "id": "1462ba42",
        "outputId": "cee30159-92ec-4404-b788-bcc4bf799404"
      },
      "outputs": [
        {
          "data": {
            "text/html": [
              "<style>#sk-container-id-3 {color: black;}#sk-container-id-3 pre{padding: 0;}#sk-container-id-3 div.sk-toggleable {background-color: white;}#sk-container-id-3 label.sk-toggleable__label {cursor: pointer;display: block;width: 100%;margin-bottom: 0;padding: 0.3em;box-sizing: border-box;text-align: center;}#sk-container-id-3 label.sk-toggleable__label-arrow:before {content: \"▸\";float: left;margin-right: 0.25em;color: #696969;}#sk-container-id-3 label.sk-toggleable__label-arrow:hover:before {color: black;}#sk-container-id-3 div.sk-estimator:hover label.sk-toggleable__label-arrow:before {color: black;}#sk-container-id-3 div.sk-toggleable__content {max-height: 0;max-width: 0;overflow: hidden;text-align: left;background-color: #f0f8ff;}#sk-container-id-3 div.sk-toggleable__content pre {margin: 0.2em;color: black;border-radius: 0.25em;background-color: #f0f8ff;}#sk-container-id-3 input.sk-toggleable__control:checked~div.sk-toggleable__content {max-height: 200px;max-width: 100%;overflow: auto;}#sk-container-id-3 input.sk-toggleable__control:checked~label.sk-toggleable__label-arrow:before {content: \"▾\";}#sk-container-id-3 div.sk-estimator input.sk-toggleable__control:checked~label.sk-toggleable__label {background-color: #d4ebff;}#sk-container-id-3 div.sk-label input.sk-toggleable__control:checked~label.sk-toggleable__label {background-color: #d4ebff;}#sk-container-id-3 input.sk-hidden--visually {border: 0;clip: rect(1px 1px 1px 1px);clip: rect(1px, 1px, 1px, 1px);height: 1px;margin: -1px;overflow: hidden;padding: 0;position: absolute;width: 1px;}#sk-container-id-3 div.sk-estimator {font-family: monospace;background-color: #f0f8ff;border: 1px dotted black;border-radius: 0.25em;box-sizing: border-box;margin-bottom: 0.5em;}#sk-container-id-3 div.sk-estimator:hover {background-color: #d4ebff;}#sk-container-id-3 div.sk-parallel-item::after {content: \"\";width: 100%;border-bottom: 1px solid gray;flex-grow: 1;}#sk-container-id-3 div.sk-label:hover label.sk-toggleable__label {background-color: #d4ebff;}#sk-container-id-3 div.sk-serial::before {content: \"\";position: absolute;border-left: 1px solid gray;box-sizing: border-box;top: 0;bottom: 0;left: 50%;z-index: 0;}#sk-container-id-3 div.sk-serial {display: flex;flex-direction: column;align-items: center;background-color: white;padding-right: 0.2em;padding-left: 0.2em;position: relative;}#sk-container-id-3 div.sk-item {position: relative;z-index: 1;}#sk-container-id-3 div.sk-parallel {display: flex;align-items: stretch;justify-content: center;background-color: white;position: relative;}#sk-container-id-3 div.sk-item::before, #sk-container-id-3 div.sk-parallel-item::before {content: \"\";position: absolute;border-left: 1px solid gray;box-sizing: border-box;top: 0;bottom: 0;left: 50%;z-index: -1;}#sk-container-id-3 div.sk-parallel-item {display: flex;flex-direction: column;z-index: 1;position: relative;background-color: white;}#sk-container-id-3 div.sk-parallel-item:first-child::after {align-self: flex-end;width: 50%;}#sk-container-id-3 div.sk-parallel-item:last-child::after {align-self: flex-start;width: 50%;}#sk-container-id-3 div.sk-parallel-item:only-child::after {width: 0;}#sk-container-id-3 div.sk-dashed-wrapped {border: 1px dashed gray;margin: 0 0.4em 0.5em 0.4em;box-sizing: border-box;padding-bottom: 0.4em;background-color: white;}#sk-container-id-3 div.sk-label label {font-family: monospace;font-weight: bold;display: inline-block;line-height: 1.2em;}#sk-container-id-3 div.sk-label-container {text-align: center;}#sk-container-id-3 div.sk-container {/* jupyter's `normalize.less` sets `[hidden] { display: none; }` but bootstrap.min.css set `[hidden] { display: none !important; }` so we also need the `!important` here to be able to override the default hidden behavior on the sphinx rendered scikit-learn.org. See: https://github.com/scikit-learn/scikit-learn/issues/21755 */display: inline-block !important;position: relative;}#sk-container-id-3 div.sk-text-repr-fallback {display: none;}</style><div id=\"sk-container-id-3\" class=\"sk-top-container\"><div class=\"sk-text-repr-fallback\"><pre>GridSearchCV(cv=3,\n",
              "             estimator=RandomForestClassifier(n_estimators=300,\n",
              "                                              random_state=111),\n",
              "             param_grid={&#x27;max_depth&#x27;: [8, 16, 24],\n",
              "                         &#x27;min_samples_leaf&#x27;: [1, 5, 10]})</pre><b>In a Jupyter environment, please rerun this cell to show the HTML representation or trust the notebook. <br />On GitHub, the HTML representation is unable to render, please try loading this page with nbviewer.org.</b></div><div class=\"sk-container\" hidden><div class=\"sk-item sk-dashed-wrapped\"><div class=\"sk-label-container\"><div class=\"sk-label sk-toggleable\"><input class=\"sk-toggleable__control sk-hidden--visually\" id=\"sk-estimator-id-5\" type=\"checkbox\" ><label for=\"sk-estimator-id-5\" class=\"sk-toggleable__label sk-toggleable__label-arrow\">GridSearchCV</label><div class=\"sk-toggleable__content\"><pre>GridSearchCV(cv=3,\n",
              "             estimator=RandomForestClassifier(n_estimators=300,\n",
              "                                              random_state=111),\n",
              "             param_grid={&#x27;max_depth&#x27;: [8, 16, 24],\n",
              "                         &#x27;min_samples_leaf&#x27;: [1, 5, 10]})</pre></div></div></div><div class=\"sk-parallel\"><div class=\"sk-parallel-item\"><div class=\"sk-item\"><div class=\"sk-label-container\"><div class=\"sk-label sk-toggleable\"><input class=\"sk-toggleable__control sk-hidden--visually\" id=\"sk-estimator-id-6\" type=\"checkbox\" ><label for=\"sk-estimator-id-6\" class=\"sk-toggleable__label sk-toggleable__label-arrow\">estimator: RandomForestClassifier</label><div class=\"sk-toggleable__content\"><pre>RandomForestClassifier(n_estimators=300, random_state=111)</pre></div></div></div><div class=\"sk-serial\"><div class=\"sk-item\"><div class=\"sk-estimator sk-toggleable\"><input class=\"sk-toggleable__control sk-hidden--visually\" id=\"sk-estimator-id-7\" type=\"checkbox\" ><label for=\"sk-estimator-id-7\" class=\"sk-toggleable__label sk-toggleable__label-arrow\">RandomForestClassifier</label><div class=\"sk-toggleable__content\"><pre>RandomForestClassifier(n_estimators=300, random_state=111)</pre></div></div></div></div></div></div></div></div></div></div>"
            ],
            "text/plain": [
              "GridSearchCV(cv=3,\n",
              "             estimator=RandomForestClassifier(n_estimators=300,\n",
              "                                              random_state=111),\n",
              "             param_grid={'max_depth': [8, 16, 24],\n",
              "                         'min_samples_leaf': [1, 5, 10]})"
            ]
          },
          "execution_count": 86,
          "metadata": {},
          "output_type": "execute_result"
        }
      ],
      "source": [
        "from sklearn.model_selection import GridSearchCV\n",
        "\n",
        "params = {\n",
        "    'max_depth':[8,16,24],\n",
        "    'min_samples_leaf':[1,5,10]\n",
        "}\n",
        "\n",
        "rf_clf = RandomForestClassifier(n_estimators=300,random_state=111) # n_estimators=300 은 따로 넣지 않았지만 직접 넣어서도 수행해 보세요!\n",
        "grid_cv = GridSearchCV(rf_clf, param_grid = params, cv =3) #꼭 3을 할 필욘 없고 5, 10 다 가능\n",
        "grid_cv.fit(X_train, y_train)"
      ]
    },
    {
      "cell_type": "code",
      "execution_count": null,
      "id": "ffe92be9",
      "metadata": {
        "id": "ffe92be9",
        "outputId": "dfcb177b-e5b6-48ff-a0f3-d0075544d3fd"
      },
      "outputs": [
        {
          "name": "stdout",
          "output_type": "stream",
          "text": [
            "{'max_depth': 16, 'min_samples_leaf': 1}\n",
            "0.8561\n"
          ]
        }
      ],
      "source": [
        "print(grid_cv.best_params_)\n",
        "print('{0:.4f}'.format(grid_cv.best_score_))"
      ]
    },
    {
      "cell_type": "code",
      "execution_count": null,
      "id": "9231f563",
      "metadata": {
        "id": "9231f563",
        "outputId": "00dce5ca-3b25-472e-85cd-f64d0fd37a50"
      },
      "outputs": [
        {
          "name": "stdout",
          "output_type": "stream",
          "text": [
            "모델 정확도 0.5087\n"
          ]
        }
      ],
      "source": [
        "#test로 비교해 보자!\n",
        "rf_clf_grid = RandomForestClassifier(random_state=111, max_depth=16, min_samples_leaf=1,n_estimators=300)\n",
        "rf_clf_grid.fit(X_train, y_train)\n",
        "pred_grid = rf_clf_grid.predict(X_test)\n",
        "print('모델 정확도 {0:0.4f}'.format(accuracy_score(y_test, pred_grid)))"
      ]
    },
    {
      "cell_type": "markdown",
      "id": "a5a153d9",
      "metadata": {
        "id": "a5a153d9"
      },
      "source": [
        "- 0.5087 base 보다 더 낮게 나왔다."
      ]
    },
    {
      "cell_type": "markdown",
      "id": "b3f448c1",
      "metadata": {
        "id": "b3f448c1"
      },
      "source": [
        "- BayesianOptimization"
      ]
    },
    {
      "cell_type": "code",
      "execution_count": null,
      "id": "d740eab8",
      "metadata": {
        "id": "d740eab8"
      },
      "outputs": [],
      "source": [
        "from bayes_opt import BayesianOptimization\n",
        "from sklearn.model_selection import cross_val_score"
      ]
    },
    {
      "cell_type": "code",
      "execution_count": null,
      "id": "51629808",
      "metadata": {
        "id": "51629808"
      },
      "outputs": [],
      "source": [
        "# 하나의 함수를 만들어서 성능 확인해 보기!\n",
        "\n",
        "\n",
        "def rf_eval(n_estimators, max_depth, min_samples_split, min_samples_leaf):\n",
        "    clf = RandomForestClassifier(\n",
        "    n_estimators= int(n_estimators),\n",
        "    max_depth= int(max_depth),\n",
        "    min_samples_split= int(min_samples_split),\n",
        "    min_samples_leaf= int(min_samples_leaf))\n",
        "\n",
        "    return cross_val_score(clf, X_train, y_train, scoring = 'accuracy', cv=3).mean()\n",
        "\n",
        "optimizer = BayesianOptimization(\n",
        "    f = rf_eval,\n",
        "    pbounds={\n",
        "        'n_estimators' :(100,400),\n",
        "        'max_depth':(10,40),\n",
        "        'min_samples_split':(2,20),\n",
        "        'min_samples_leaf':(1,20)\n",
        "    }, random_state=111)\n"
      ]
    },
    {
      "cell_type": "code",
      "execution_count": null,
      "id": "0eeff336",
      "metadata": {
        "id": "0eeff336",
        "outputId": "1fa31a45-d2dc-400f-d24a-aba887e5acf1"
      },
      "outputs": [
        {
          "name": "stdout",
          "output_type": "stream",
          "text": [
            "|   iter    |  target   | max_depth | min_sa... | min_sa... | n_esti... |\n",
            "-------------------------------------------------------------------------\n",
            "| \u001b[0m1        \u001b[0m | \u001b[0m0.8255   \u001b[0m | \u001b[0m28.37    \u001b[0m | \u001b[0m4.212    \u001b[0m | \u001b[0m9.849    \u001b[0m | \u001b[0m330.8    \u001b[0m |\n",
            "| \u001b[95m2        \u001b[0m | \u001b[95m0.8395   \u001b[0m | \u001b[95m18.86    \u001b[0m | \u001b[95m3.834    \u001b[0m | \u001b[95m2.405    \u001b[0m | \u001b[95m226.1    \u001b[0m |\n",
            "| \u001b[0m3        \u001b[0m | \u001b[0m0.7957   \u001b[0m | \u001b[0m17.16    \u001b[0m | \u001b[0m7.415    \u001b[0m | \u001b[0m19.83    \u001b[0m | \u001b[0m171.3    \u001b[0m |\n",
            "| \u001b[0m4        \u001b[0m | \u001b[0m0.7775   \u001b[0m | \u001b[0m12.44    \u001b[0m | \u001b[0m13.72    \u001b[0m | \u001b[0m13.18    \u001b[0m | \u001b[0m182.3    \u001b[0m |\n",
            "| \u001b[0m5        \u001b[0m | \u001b[0m0.8337   \u001b[0m | \u001b[0m23.99    \u001b[0m | \u001b[0m3.249    \u001b[0m | \u001b[0m3.331    \u001b[0m | \u001b[0m370.2    \u001b[0m |\n",
            "| \u001b[95m6        \u001b[0m | \u001b[95m0.8503   \u001b[0m | \u001b[95m19.48    \u001b[0m | \u001b[95m1.0      \u001b[0m | \u001b[95m2.0      \u001b[0m | \u001b[95m247.6    \u001b[0m |\n",
            "| \u001b[0m7        \u001b[0m | \u001b[0m0.8478   \u001b[0m | \u001b[0m19.0     \u001b[0m | \u001b[0m1.653    \u001b[0m | \u001b[0m3.01     \u001b[0m | \u001b[0m248.5    \u001b[0m |\n",
            "| \u001b[0m8        \u001b[0m | \u001b[0m0.8486   \u001b[0m | \u001b[0m40.0     \u001b[0m | \u001b[0m1.0      \u001b[0m | \u001b[0m2.0      \u001b[0m | \u001b[0m242.1    \u001b[0m |\n",
            "| \u001b[0m9        \u001b[0m | \u001b[0m0.8495   \u001b[0m | \u001b[0m40.0     \u001b[0m | \u001b[0m1.0      \u001b[0m | \u001b[0m2.0      \u001b[0m | \u001b[0m100.0    \u001b[0m |\n",
            "| \u001b[0m10       \u001b[0m | \u001b[0m0.7477   \u001b[0m | \u001b[0m13.28    \u001b[0m | \u001b[0m20.0     \u001b[0m | \u001b[0m20.0     \u001b[0m | \u001b[0m100.0    \u001b[0m |\n",
            "| \u001b[0m11       \u001b[0m | \u001b[0m0.7444   \u001b[0m | \u001b[0m40.0     \u001b[0m | \u001b[0m20.0     \u001b[0m | \u001b[0m20.0     \u001b[0m | \u001b[0m400.0    \u001b[0m |\n",
            "| \u001b[95m12       \u001b[0m | \u001b[95m0.8528   \u001b[0m | \u001b[95m40.0     \u001b[0m | \u001b[95m1.0      \u001b[0m | \u001b[95m2.0      \u001b[0m | \u001b[95m280.6    \u001b[0m |\n",
            "| \u001b[0m13       \u001b[0m | \u001b[0m0.7535   \u001b[0m | \u001b[0m11.02    \u001b[0m | \u001b[0m20.0     \u001b[0m | \u001b[0m2.0      \u001b[0m | \u001b[0m292.7    \u001b[0m |\n",
            "| \u001b[0m14       \u001b[0m | \u001b[0m0.7957   \u001b[0m | \u001b[0m40.0     \u001b[0m | \u001b[0m1.0      \u001b[0m | \u001b[0m20.0     \u001b[0m | \u001b[0m264.4    \u001b[0m |\n",
            "| \u001b[0m15       \u001b[0m | \u001b[0m0.7494   \u001b[0m | \u001b[0m30.76    \u001b[0m | \u001b[0m20.0     \u001b[0m | \u001b[0m2.0      \u001b[0m | \u001b[0m239.0    \u001b[0m |\n",
            "| \u001b[0m16       \u001b[0m | \u001b[0m0.847    \u001b[0m | \u001b[0m32.71    \u001b[0m | \u001b[0m1.0      \u001b[0m | \u001b[0m2.0      \u001b[0m | \u001b[0m257.0    \u001b[0m |\n",
            "| \u001b[0m17       \u001b[0m | \u001b[0m0.8519   \u001b[0m | \u001b[0m40.0     \u001b[0m | \u001b[0m1.0      \u001b[0m | \u001b[0m2.0      \u001b[0m | \u001b[0m118.6    \u001b[0m |\n",
            "| \u001b[0m18       \u001b[0m | \u001b[0m0.7535   \u001b[0m | \u001b[0m40.0     \u001b[0m | \u001b[0m19.27    \u001b[0m | \u001b[0m2.0      \u001b[0m | \u001b[0m113.9    \u001b[0m |\n",
            "| \u001b[0m19       \u001b[0m | \u001b[0m0.8462   \u001b[0m | \u001b[0m26.0     \u001b[0m | \u001b[0m1.0      \u001b[0m | \u001b[0m2.0      \u001b[0m | \u001b[0m272.9    \u001b[0m |\n",
            "| \u001b[0m20       \u001b[0m | \u001b[0m0.8056   \u001b[0m | \u001b[0m10.0     \u001b[0m | \u001b[0m1.0      \u001b[0m | \u001b[0m17.36    \u001b[0m | \u001b[0m234.2    \u001b[0m |\n",
            "| \u001b[95m21       \u001b[0m | \u001b[95m0.8536   \u001b[0m | \u001b[95m40.0     \u001b[0m | \u001b[95m1.0      \u001b[0m | \u001b[95m2.0      \u001b[0m | \u001b[95m298.2    \u001b[0m |\n",
            "| \u001b[0m22       \u001b[0m | \u001b[0m0.7998   \u001b[0m | \u001b[0m40.0     \u001b[0m | \u001b[0m1.0      \u001b[0m | \u001b[0m20.0     \u001b[0m | \u001b[0m298.1    \u001b[0m |\n",
            "| \u001b[0m23       \u001b[0m | \u001b[0m0.7667   \u001b[0m | \u001b[0m40.0     \u001b[0m | \u001b[0m14.92    \u001b[0m | \u001b[0m2.0      \u001b[0m | \u001b[0m288.6    \u001b[0m |\n",
            "| \u001b[0m24       \u001b[0m | \u001b[0m0.842    \u001b[0m | \u001b[0m28.21    \u001b[0m | \u001b[0m1.168    \u001b[0m | \u001b[0m8.452    \u001b[0m | \u001b[0m243.1    \u001b[0m |\n",
            "| \u001b[0m25       \u001b[0m | \u001b[0m0.8528   \u001b[0m | \u001b[0m40.0     \u001b[0m | \u001b[0m1.0      \u001b[0m | \u001b[0m2.0      \u001b[0m | \u001b[0m134.3    \u001b[0m |\n",
            "| \u001b[0m26       \u001b[0m | \u001b[0m0.8528   \u001b[0m | \u001b[0m24.59    \u001b[0m | \u001b[0m1.0      \u001b[0m | \u001b[0m2.0      \u001b[0m | \u001b[0m129.3    \u001b[0m |\n",
            "| \u001b[0m27       \u001b[0m | \u001b[0m0.794    \u001b[0m | \u001b[0m34.05    \u001b[0m | \u001b[0m1.0      \u001b[0m | \u001b[0m18.67    \u001b[0m | \u001b[0m131.1    \u001b[0m |\n",
            "| \u001b[0m28       \u001b[0m | \u001b[0m0.8395   \u001b[0m | \u001b[0m26.59    \u001b[0m | \u001b[0m1.0      \u001b[0m | \u001b[0m2.0      \u001b[0m | \u001b[0m145.6    \u001b[0m |\n",
            "| \u001b[0m29       \u001b[0m | \u001b[0m0.8453   \u001b[0m | \u001b[0m10.0     \u001b[0m | \u001b[0m1.0      \u001b[0m | \u001b[0m2.0      \u001b[0m | \u001b[0m136.9    \u001b[0m |\n",
            "| \u001b[0m30       \u001b[0m | \u001b[0m0.8478   \u001b[0m | \u001b[0m40.0     \u001b[0m | \u001b[0m1.0      \u001b[0m | \u001b[0m2.0      \u001b[0m | \u001b[0m315.3    \u001b[0m |\n",
            "=========================================================================\n"
          ]
        }
      ],
      "source": [
        "optimizer.maximize(\n",
        "n_iter= 25, # 최적화 수행할 반복 횟수\n",
        "init_points =5) # 초기 랜덤 포인트 수"
      ]
    },
    {
      "cell_type": "markdown",
      "id": "31b9e317",
      "metadata": {
        "id": "31b9e317"
      },
      "source": [
        "18.86, 3.834, 2.405 ,226.1"
      ]
    },
    {
      "cell_type": "code",
      "execution_count": null,
      "id": "33aa28f9",
      "metadata": {
        "id": "33aa28f9",
        "outputId": "ed10f211-690b-4c0d-f0d3-a15d9b60083e"
      },
      "outputs": [
        {
          "name": "stdout",
          "output_type": "stream",
          "text": [
            "모델 정확도 0.5145\n"
          ]
        }
      ],
      "source": [
        "#test로 비교해 보자!\n",
        "rf_clf_bo = RandomForestClassifier(random_state=111, max_depth=19, min_samples_split=4,min_samples_leaf=2,n_estimators=226)\n",
        "rf_clf_bo.fit(X_train, y_train)\n",
        "pred_bo = rf_clf_bo.predict(X_test)\n",
        "print('모델 정확도 {0:0.4f}'.format(accuracy_score(y_test, pred_bo)))"
      ]
    },
    {
      "cell_type": "markdown",
      "id": "f7770daa",
      "metadata": {
        "id": "f7770daa"
      },
      "source": [
        "- 하이퍼파라미터 튜닝하여 실제 테스트값 넣어보니 0.5145 올라왔다. (- grid 0.5087, base=0.5106 ) 갖아 높게 나옴"
      ]
    },
    {
      "cell_type": "code",
      "execution_count": null,
      "id": "25fb7ab4",
      "metadata": {
        "id": "25fb7ab4"
      },
      "outputs": [],
      "source": [
        "from hyperopt import hp, fmin, tpe, STATUS_OK, Trials\n",
        "from sklearn.metrics import mean_squared_error"
      ]
    },
    {
      "cell_type": "code",
      "execution_count": null,
      "id": "926fbd89",
      "metadata": {
        "id": "926fbd89",
        "outputId": "c0809bad-d9dd-459b-dd4f-4641e8c0314f"
      },
      "outputs": [
        {
          "name": "stdout",
          "output_type": "stream",
          "text": [
            "100%|██████| 100/100 [01:41<00:00,  1.02s/trial, best loss: -0.8552522746071133]\n"
          ]
        }
      ],
      "source": [
        "hp_parm = {\n",
        "    'n_estimators' :hp.choice('n_estimators', range(100,400)),\n",
        "    'max_depth' :hp.choice('max_depth', range(10,40)),\n",
        "    'min_samples_split' :hp.uniform('min_samples_split', 0,1)\n",
        "}\n",
        "\n",
        "def objective(params):\n",
        "    clf = RandomForestClassifier(**params)\n",
        "    best_score = cross_val_score(clf, X_train, y_train, scoring= 'accuracy', cv=3).mean()\n",
        "    return {'loss':-best_score, 'status':STATUS_OK}\n",
        "\n",
        "trials = Trials()\n",
        "best = fmin(fn=objective, space = hp_parm, algo = tpe.suggest, max_evals=100, trials =trials)"
      ]
    },
    {
      "cell_type": "code",
      "execution_count": null,
      "id": "dbcc67e1",
      "metadata": {
        "id": "dbcc67e1",
        "outputId": "0d7e88af-5b56-4f5b-edff-6a24f073e3d9"
      },
      "outputs": [
        {
          "name": "stdout",
          "output_type": "stream",
          "text": [
            "{'max_depth': 10, 'min_samples_split': 0.00141614431679678, 'n_estimators': 266}\n"
          ]
        }
      ],
      "source": [
        "print(best)"
      ]
    },
    {
      "cell_type": "markdown",
      "id": "b3ef2f42",
      "metadata": {
        "id": "b3ef2f42"
      },
      "source": [
        "## 필수과제\n",
        "- 기존에 공유 드렸던 데이터를 가지고 실제 이진분류 RF 만들고, 오늘 수업시간에 배웠던 하이퍼파라미터 및 다양한 모델링을 진행하여\n",
        "- 성능평가를 공유해 주세요!"
      ]
    }
  ],
  "metadata": {
    "colab": {
      "provenance": []
    },
    "kernelspec": {
      "display_name": "Python 3 (ipykernel)",
      "language": "python",
      "name": "python3"
    },
    "language_info": {
      "codemirror_mode": {
        "name": "ipython",
        "version": 3
      },
      "file_extension": ".py",
      "mimetype": "text/x-python",
      "name": "python",
      "nbconvert_exporter": "python",
      "pygments_lexer": "ipython3",
      "version": "3.11.6"
    }
  },
  "nbformat": 4,
  "nbformat_minor": 5
}
